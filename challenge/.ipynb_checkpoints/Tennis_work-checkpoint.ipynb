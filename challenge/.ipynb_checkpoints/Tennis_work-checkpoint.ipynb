{
 "cells": [
  {
   "cell_type": "code",
   "execution_count": 1,
   "metadata": {},
   "outputs": [
    {
     "data": {
      "text/html": [
       "<style>.container { width:95% !important; }</style>"
      ],
      "text/plain": [
       "<IPython.core.display.HTML object>"
      ]
     },
     "metadata": {},
     "output_type": "display_data"
    }
   ],
   "source": [
    "from IPython.core.display import display, HTML\n",
    "display(HTML(\"<style>.container { width:95% !important; }</style>\"))"
   ]
  },
  {
   "cell_type": "markdown",
   "metadata": {},
   "source": [
    "</br>"
   ]
  },
  {
   "cell_type": "markdown",
   "metadata": {},
   "source": [
    "# Introduction"
   ]
  },
  {
   "cell_type": "markdown",
   "metadata": {},
   "source": [
    "This problem is one of the classic machine learning problem, with a multiple datasets containing information about tennis matches, players and tournements, we try to predict the winner player in the match given the minimum information.</br>\n",
    "</br>\n",
    "In the following notebook I will work on different ML models to answer this problem, and at the end I will present the best model with the best accuracy score.</br>\n",
    "</br>\n",
    "NB : I don't have the result for the test data, my objective with this exercice is to show my technical capacities wiin ML and data analisys. During the implementation of each model I will present briefly its theory also.</br>\n",
    "<font size=\"2.8\" color=\"#FF4500\" >Hope you enjoy it</font> "
   ]
  },
  {
   "cell_type": "markdown",
   "metadata": {},
   "source": [
    "# Environement set-up "
   ]
  },
  {
   "cell_type": "code",
<<<<<<< HEAD
   "execution_count": 2,
=======
   "execution_count": 1,
>>>>>>> 1e9086aa1e1aa6ee7a128624c11e27d6e1245026
   "metadata": {},
   "outputs": [],
   "source": [
    "# Import libraries\n",
    "import numpy as np\n",
    "import sklearn\n",
    "import pandas as pd\n",
    "from pandas.plotting import scatter_matrix\n",
    "import xgboost as xgb\n",
    "from IPython.display import display\n",
    "import matplotlib.pyplot as plt\n",
    "import seaborn as sns\n",
    "from sklearn.preprocessing import scale\n",
    "from sklearn.model_selection import train_test_split\n",
    "from sklearn.metrics import f1_score\n",
    "from sklearn.metrics import confusion_matrix\n",
    "from sklearn.linear_model.stochastic_gradient import SGDClassifier\n",
    "%matplotlib inline"
   ]
  },
  {
   "cell_type": "code",
<<<<<<< HEAD
   "execution_count": 3,
=======
   "execution_count": 49,
>>>>>>> 1e9086aa1e1aa6ee7a128624c11e27d6e1245026
   "metadata": {},
   "outputs": [],
   "source": [
    "# Import data files\n",
    "data_train     = pd.read_csv('train.csv',index_col=0)\n",
    "data_stats     = pd.read_csv('stats.csv',index_col=0)\n",
    "data_test      = pd.read_csv('test.csv')\n",
    "data_tour      = pd.read_csv('tour.csv')\n",
    "data_players   = pd.read_csv('players.csv')\n",
    "data_playerate = pd.read_csv('player_rates.csv',index_col=0)"
   ]
  },
  {
   "cell_type": "markdown",
   "metadata": {},
   "source": [
    "# Data discovery "
   ]
  },
  {
   "cell_type": "code",
<<<<<<< HEAD
   "execution_count": 4,
=======
   "execution_count": 50,
>>>>>>> 1e9086aa1e1aa6ee7a128624c11e27d6e1245026
   "metadata": {},
   "outputs": [
    {
     "data": {
      "text/html": [
       "<div>\n",
       "<style scoped>\n",
       "    .dataframe tbody tr th:only-of-type {\n",
       "        vertical-align: middle;\n",
       "    }\n",
       "\n",
       "    .dataframe tbody tr th {\n",
       "        vertical-align: top;\n",
       "    }\n",
       "\n",
       "    .dataframe thead th {\n",
       "        text-align: right;\n",
       "    }\n",
       "</style>\n",
       "<table border=\"1\" class=\"dataframe\">\n",
       "  <thead>\n",
       "    <tr style=\"text-align: right;\">\n",
       "      <th></th>\n",
       "      <th>ID1_G</th>\n",
       "      <th>ID2_G</th>\n",
       "      <th>ID_T_G</th>\n",
       "      <th>ID_R_G</th>\n",
       "      <th>RESULT_G</th>\n",
       "      <th>DATE_G</th>\n",
       "    </tr>\n",
       "  </thead>\n",
       "  <tbody>\n",
       "    <tr>\n",
       "      <th>0</th>\n",
       "      <td>17613</td>\n",
       "      <td>18854</td>\n",
       "      <td>8887</td>\n",
       "      <td>4</td>\n",
       "      <td>7-6(8) 3-6 10-7</td>\n",
       "      <td>2012-01-31 00:00:00</td>\n",
       "    </tr>\n",
       "    <tr>\n",
       "      <th>1</th>\n",
       "      <td>25192</td>\n",
       "      <td>25191</td>\n",
       "      <td>8888</td>\n",
       "      <td>4</td>\n",
       "      <td>6-3 6-2</td>\n",
       "      <td>2012-01-31 00:00:00</td>\n",
       "    </tr>\n",
       "    <tr>\n",
       "      <th>2</th>\n",
       "      <td>918</td>\n",
       "      <td>10828</td>\n",
       "      <td>8957</td>\n",
       "      <td>4</td>\n",
       "      <td>6-1 6-2</td>\n",
       "      <td>2012-01-31 00:00:00</td>\n",
       "    </tr>\n",
       "    <tr>\n",
       "      <th>3</th>\n",
       "      <td>3316</td>\n",
       "      <td>2379</td>\n",
       "      <td>8957</td>\n",
       "      <td>4</td>\n",
       "      <td>6-4 7-6(5)</td>\n",
       "      <td>2012-01-31 00:00:00</td>\n",
       "    </tr>\n",
       "    <tr>\n",
       "      <th>4</th>\n",
       "      <td>7869</td>\n",
       "      <td>6277</td>\n",
       "      <td>8957</td>\n",
       "      <td>4</td>\n",
       "      <td>6-4 6-4</td>\n",
       "      <td>2012-01-31 00:00:00</td>\n",
       "    </tr>\n",
       "  </tbody>\n",
       "</table>\n",
       "</div>"
      ],
      "text/plain": [
       "   ID1_G  ID2_G  ID_T_G  ID_R_G         RESULT_G               DATE_G\n",
       "0  17613  18854    8887       4  7-6(8) 3-6 10-7  2012-01-31 00:00:00\n",
       "1  25192  25191    8888       4          6-3 6-2  2012-01-31 00:00:00\n",
       "2    918  10828    8957       4          6-1 6-2  2012-01-31 00:00:00\n",
       "3   3316   2379    8957       4       6-4 7-6(5)  2012-01-31 00:00:00\n",
       "4   7869   6277    8957       4          6-4 6-4  2012-01-31 00:00:00"
      ]
     },
<<<<<<< HEAD
     "execution_count": 4,
=======
     "execution_count": 50,
>>>>>>> 1e9086aa1e1aa6ee7a128624c11e27d6e1245026
     "metadata": {},
     "output_type": "execute_result"
    }
   ],
   "source": [
    "data_train.head()"
   ]
  },
  {
   "cell_type": "markdown",
   "metadata": {},
   "source": [
    "Data train is the table containing examples to train the model, it could be modified to add new features to get better result. That what I will discover in the next line of code :D"
   ]
  },
  {
   "cell_type": "markdown",
   "metadata": {},
   "source": [
    "ID1_G = player1 index (winner)</br>\n",
    "ID2_G = player2 index (loser)</br>\n",
    "ID_T_G = tournement index </br>\n",
    "ID_R_G = round </br>\n",
    "RESULT_G = match_result</br>\n",
    "DATE_G = match date"
   ]
  },
  {
   "cell_type": "markdown",
   "metadata": {},
   "source": [
    "</br>"
   ]
  },
  {
   "cell_type": "code",
<<<<<<< HEAD
   "execution_count": 5,
=======
   "execution_count": 51,
>>>>>>> 1e9086aa1e1aa6ee7a128624c11e27d6e1245026
   "metadata": {},
   "outputs": [
    {
     "data": {
      "text/html": [
       "<div>\n",
       "<style scoped>\n",
       "    .dataframe tbody tr th:only-of-type {\n",
       "        vertical-align: middle;\n",
       "    }\n",
       "\n",
       "    .dataframe tbody tr th {\n",
       "        vertical-align: top;\n",
       "    }\n",
       "\n",
       "    .dataframe thead th {\n",
       "        text-align: right;\n",
       "    }\n",
       "</style>\n",
       "<table border=\"1\" class=\"dataframe\">\n",
       "  <thead>\n",
       "    <tr style=\"text-align: right;\">\n",
       "      <th></th>\n",
       "      <th>ID1</th>\n",
       "      <th>ID2</th>\n",
       "      <th>ID_T</th>\n",
       "      <th>ID_R</th>\n",
       "      <th>FS_1</th>\n",
       "      <th>FSOF_1</th>\n",
       "      <th>ACES_1</th>\n",
       "      <th>DF_1</th>\n",
       "      <th>UE_1</th>\n",
       "      <th>W1S_1</th>\n",
       "      <th>...</th>\n",
       "      <th>NAOF_2</th>\n",
       "      <th>TPW_2</th>\n",
       "      <th>FAST_2</th>\n",
       "      <th>A1S_2</th>\n",
       "      <th>A2S_2</th>\n",
       "      <th>RPW_1</th>\n",
       "      <th>RPWOF_1</th>\n",
       "      <th>RPW_2</th>\n",
       "      <th>RPWOF_2</th>\n",
       "      <th>MT</th>\n",
       "    </tr>\n",
       "  </thead>\n",
       "  <tbody>\n",
       "    <tr>\n",
       "      <th>0</th>\n",
       "      <td>6431</td>\n",
       "      <td>7042</td>\n",
       "      <td>8961</td>\n",
       "      <td>4</td>\n",
       "      <td>46.0</td>\n",
       "      <td>70.0</td>\n",
       "      <td>19.0</td>\n",
       "      <td>3.0</td>\n",
       "      <td>NaN</td>\n",
       "      <td>40</td>\n",
       "      <td>...</td>\n",
       "      <td>NaN</td>\n",
       "      <td>70</td>\n",
       "      <td>NaN</td>\n",
       "      <td>NaN</td>\n",
       "      <td>NaN</td>\n",
       "      <td>27.0</td>\n",
       "      <td>79.0</td>\n",
       "      <td>18.0</td>\n",
       "      <td>70.0</td>\n",
       "      <td>1899-12-30 01:35:35</td>\n",
       "    </tr>\n",
       "    <tr>\n",
       "      <th>1</th>\n",
       "      <td>11923</td>\n",
       "      <td>4078</td>\n",
       "      <td>8961</td>\n",
       "      <td>4</td>\n",
       "      <td>40.0</td>\n",
       "      <td>70.0</td>\n",
       "      <td>8.0</td>\n",
       "      <td>1.0</td>\n",
       "      <td>NaN</td>\n",
       "      <td>31</td>\n",
       "      <td>...</td>\n",
       "      <td>NaN</td>\n",
       "      <td>73</td>\n",
       "      <td>NaN</td>\n",
       "      <td>NaN</td>\n",
       "      <td>NaN</td>\n",
       "      <td>41.0</td>\n",
       "      <td>91.0</td>\n",
       "      <td>23.0</td>\n",
       "      <td>70.0</td>\n",
       "      <td>1899-12-30 01:38:41</td>\n",
       "    </tr>\n",
       "    <tr>\n",
       "      <th>2</th>\n",
       "      <td>662</td>\n",
       "      <td>1621</td>\n",
       "      <td>8961</td>\n",
       "      <td>4</td>\n",
       "      <td>52.0</td>\n",
       "      <td>83.0</td>\n",
       "      <td>4.0</td>\n",
       "      <td>4.0</td>\n",
       "      <td>NaN</td>\n",
       "      <td>33</td>\n",
       "      <td>...</td>\n",
       "      <td>NaN</td>\n",
       "      <td>75</td>\n",
       "      <td>NaN</td>\n",
       "      <td>NaN</td>\n",
       "      <td>NaN</td>\n",
       "      <td>31.0</td>\n",
       "      <td>74.0</td>\n",
       "      <td>32.0</td>\n",
       "      <td>83.0</td>\n",
       "      <td>1899-12-30 01:42:36</td>\n",
       "    </tr>\n",
       "    <tr>\n",
       "      <th>3</th>\n",
       "      <td>7461</td>\n",
       "      <td>10320</td>\n",
       "      <td>8959</td>\n",
       "      <td>4</td>\n",
       "      <td>12.0</td>\n",
       "      <td>14.0</td>\n",
       "      <td>4.0</td>\n",
       "      <td>0.0</td>\n",
       "      <td>NaN</td>\n",
       "      <td>10</td>\n",
       "      <td>...</td>\n",
       "      <td>NaN</td>\n",
       "      <td>10</td>\n",
       "      <td>NaN</td>\n",
       "      <td>NaN</td>\n",
       "      <td>NaN</td>\n",
       "      <td>12.0</td>\n",
       "      <td>20.0</td>\n",
       "      <td>2.0</td>\n",
       "      <td>14.0</td>\n",
       "      <td>1899-12-30 00:21:11</td>\n",
       "    </tr>\n",
       "    <tr>\n",
       "      <th>4</th>\n",
       "      <td>12495</td>\n",
       "      <td>3996</td>\n",
       "      <td>8959</td>\n",
       "      <td>4</td>\n",
       "      <td>68.0</td>\n",
       "      <td>110.0</td>\n",
       "      <td>4.0</td>\n",
       "      <td>0.0</td>\n",
       "      <td>NaN</td>\n",
       "      <td>36</td>\n",
       "      <td>...</td>\n",
       "      <td>NaN</td>\n",
       "      <td>114</td>\n",
       "      <td>NaN</td>\n",
       "      <td>NaN</td>\n",
       "      <td>NaN</td>\n",
       "      <td>55.0</td>\n",
       "      <td>122.0</td>\n",
       "      <td>47.0</td>\n",
       "      <td>110.0</td>\n",
       "      <td>1899-12-30 02:38:00</td>\n",
       "    </tr>\n",
       "  </tbody>\n",
       "</table>\n",
       "<p>5 rows × 45 columns</p>\n",
       "</div>"
      ],
      "text/plain": [
       "     ID1    ID2  ID_T  ID_R  FS_1  FSOF_1  ACES_1  DF_1  UE_1  W1S_1  ...  \\\n",
       "0   6431   7042  8961     4  46.0    70.0    19.0   3.0   NaN     40  ...   \n",
       "1  11923   4078  8961     4  40.0    70.0     8.0   1.0   NaN     31  ...   \n",
       "2    662   1621  8961     4  52.0    83.0     4.0   4.0   NaN     33  ...   \n",
       "3   7461  10320  8959     4  12.0    14.0     4.0   0.0   NaN     10  ...   \n",
       "4  12495   3996  8959     4  68.0   110.0     4.0   0.0   NaN     36  ...   \n",
       "\n",
       "   NAOF_2  TPW_2  FAST_2  A1S_2  A2S_2  RPW_1  RPWOF_1  RPW_2  RPWOF_2  \\\n",
       "0     NaN     70     NaN    NaN    NaN   27.0     79.0   18.0     70.0   \n",
       "1     NaN     73     NaN    NaN    NaN   41.0     91.0   23.0     70.0   \n",
       "2     NaN     75     NaN    NaN    NaN   31.0     74.0   32.0     83.0   \n",
       "3     NaN     10     NaN    NaN    NaN   12.0     20.0    2.0     14.0   \n",
       "4     NaN    114     NaN    NaN    NaN   55.0    122.0   47.0    110.0   \n",
       "\n",
       "                    MT  \n",
       "0  1899-12-30 01:35:35  \n",
       "1  1899-12-30 01:38:41  \n",
       "2  1899-12-30 01:42:36  \n",
       "3  1899-12-30 00:21:11  \n",
       "4  1899-12-30 02:38:00  \n",
       "\n",
       "[5 rows x 45 columns]"
      ]
     },
<<<<<<< HEAD
     "execution_count": 5,
=======
     "execution_count": 51,
>>>>>>> 1e9086aa1e1aa6ee7a128624c11e27d6e1245026
     "metadata": {},
     "output_type": "execute_result"
    }
   ],
   "source": [
    "data_stats.head()"
   ]
  },
  {
   "cell_type": "markdown",
   "metadata": {},
   "source": [
    "</br>"
   ]
  },
  {
   "cell_type": "markdown",
   "metadata": {},
   "source": [
    "Is the table containing the most information on each match two players had "
   ]
  },
  {
   "cell_type": "markdown",
   "metadata": {},
   "source": [
<<<<<<< HEAD
    "ID1 : L’identifiant du joueur qui a gagné le match<br>\n",
    "ID2 : L’identifiant du joueur qui a perdu le match<br>\n",
    "ID_T : L’identifiant du tournoi (voir tours_atp)<br>\n",
    "ID_R : L’identfiant du extit{round} dans le tournoi <br>\n",
    "FS_1 : Nombre de premiers services réussis par joueur 1<br>\n",
    "FS_OF1 : Nombre de premiers services par joueur 1<br>\n",
    "ACES_1 : Aces du joueur 1<br>\n",
    "DF_1 : Double Fautes commis par joueur 1<br>\n",
    "UE_1 : Unforced errors<br>\n",
    "W1S_1: Nombre de points gagnés sur premier service<br>\n",
    "W1SOF_1: Nombre de points joués sur premier service<br>\n",
    "W2S_1: Nombre de points gagnés sur second service<br>\n",
    "W2SOF_1: Nombre de points joués sur second service<br>\n",
    "WIS_1 : Nombre de points gagnés en tout<br>\n",
    "BP_1 : Nombre de balles de break gagnées<br>\n",
    "BPOF_1 : Nombre de balles de break obtenues<br>\n",
    "RPW_1 : Nombre de points gagnés<br>\n",
    "RPW_OF1 : Nombre de points jouées<br>\n",
=======
    "ID1 : L’identifiant du joueur qui a gagné le match</br>\n",
    "ID2 : L’identifiant du joueur qui a perdu le match</br>\n",
    "ID_T : L’identifiant du tournoi (voir tours_atp)</br>\n",
    "ID_R : L’identfiant du extit{round} dans le tournoi </br>\n",
    "FS_1 : Nombre de premiers services réussis par joueur 1</br>\n",
    "FS_OF1 : Nombre de premiers services par joueur 1</br>\n",
    "ACES_1 : Aces du joueur 1</br>\n",
    "DF_1 : Double Fautes commis par joueur 1</br>\n",
    "UE_1 : Unforced errors</br>\n",
    "W1S_1: Nombre de points gagnés sur premier service</br>\n",
    "W1SOF_1: Nombre de points joués sur premier service</br>\n",
    "W2S_1: Nombre de points gagnés sur second service</br>\n",
    "W2SOF_1: Nombre de points joués sur second service</br>\n",
    "WIS_1 : Nombre de points gagnés en tout</br>\n",
    "BP_1 : Nombre de balles de break gagnées</br>\n",
    "BPOF_1 : Nombre de balles de break obtenues</br>\n",
    "RPW_1 : Nombre de points gagnés</br>\n",
    "RPW_OF1 : Nombre de points jouées</br>\n",
>>>>>>> 1e9086aa1e1aa6ee7a128624c11e27d6e1245026
    "Same features for player 2"
   ]
  },
  {
   "cell_type": "markdown",
   "metadata": {},
   "source": [
    "</br>"
   ]
  },
  {
   "cell_type": "code",
<<<<<<< HEAD
   "execution_count": 6,
=======
   "execution_count": 52,
>>>>>>> 1e9086aa1e1aa6ee7a128624c11e27d6e1245026
   "metadata": {},
   "outputs": [
    {
     "data": {
      "text/html": [
       "<div>\n",
       "<style scoped>\n",
       "    .dataframe tbody tr th:only-of-type {\n",
       "        vertical-align: middle;\n",
       "    }\n",
       "\n",
       "    .dataframe tbody tr th {\n",
       "        vertical-align: top;\n",
       "    }\n",
       "\n",
       "    .dataframe thead th {\n",
       "        text-align: right;\n",
       "    }\n",
       "</style>\n",
       "<table border=\"1\" class=\"dataframe\">\n",
       "  <thead>\n",
       "    <tr style=\"text-align: right;\">\n",
       "      <th></th>\n",
       "      <th>ID_P</th>\n",
       "      <th>NAME_P</th>\n",
       "      <th>DATE_P</th>\n",
       "      <th>COUNTRY_P</th>\n",
       "      <th>RANK_P</th>\n",
       "      <th>PROGRESS_P</th>\n",
       "      <th>POINT_P</th>\n",
       "      <th>HARDPOINT_P</th>\n",
       "      <th>HARDTOUR_P</th>\n",
       "      <th>CLAYPOINT_P</th>\n",
       "      <th>...</th>\n",
       "      <th>CARPETPOINT_P</th>\n",
       "      <th>CARPETTOUR_P</th>\n",
       "      <th>PRIZE_P</th>\n",
       "      <th>CH_P</th>\n",
       "      <th>DR_P</th>\n",
       "      <th>DP_P</th>\n",
       "      <th>DO_P</th>\n",
       "      <th>IHARDPOINT_P</th>\n",
       "      <th>IHARDTOUR_P</th>\n",
       "      <th>ITF_ID</th>\n",
       "    </tr>\n",
       "  </thead>\n",
       "  <tbody>\n",
       "    <tr>\n",
       "      <th>0</th>\n",
       "      <td>1</td>\n",
       "      <td>Gustavo Kuerten</td>\n",
       "      <td>1976-09-10 00:00:00</td>\n",
       "      <td>BRA</td>\n",
       "      <td>NaN</td>\n",
       "      <td>NaN</td>\n",
       "      <td>NaN</td>\n",
       "      <td>NaN</td>\n",
       "      <td>NaN</td>\n",
       "      <td>NaN</td>\n",
       "      <td>...</td>\n",
       "      <td>NaN</td>\n",
       "      <td>NaN</td>\n",
       "      <td>NaN</td>\n",
       "      <td>NaN</td>\n",
       "      <td>NaN</td>\n",
       "      <td>NaN</td>\n",
       "      <td>NaN</td>\n",
       "      <td>NaN</td>\n",
       "      <td>NaN</td>\n",
       "      <td>NaN</td>\n",
       "    </tr>\n",
       "    <tr>\n",
       "      <th>1</th>\n",
       "      <td>2</td>\n",
       "      <td>Marat Safin</td>\n",
       "      <td>1980-01-27 00:00:00</td>\n",
       "      <td>RUS</td>\n",
       "      <td>NaN</td>\n",
       "      <td>NaN</td>\n",
       "      <td>NaN</td>\n",
       "      <td>NaN</td>\n",
       "      <td>NaN</td>\n",
       "      <td>NaN</td>\n",
       "      <td>...</td>\n",
       "      <td>NaN</td>\n",
       "      <td>NaN</td>\n",
       "      <td>NaN</td>\n",
       "      <td>NaN</td>\n",
       "      <td>NaN</td>\n",
       "      <td>NaN</td>\n",
       "      <td>NaN</td>\n",
       "      <td>NaN</td>\n",
       "      <td>NaN</td>\n",
       "      <td>NaN</td>\n",
       "    </tr>\n",
       "    <tr>\n",
       "      <th>2</th>\n",
       "      <td>3</td>\n",
       "      <td>Andre Agassi</td>\n",
       "      <td>1970-04-29 00:00:00</td>\n",
       "      <td>USA</td>\n",
       "      <td>NaN</td>\n",
       "      <td>NaN</td>\n",
       "      <td>NaN</td>\n",
       "      <td>NaN</td>\n",
       "      <td>NaN</td>\n",
       "      <td>NaN</td>\n",
       "      <td>...</td>\n",
       "      <td>NaN</td>\n",
       "      <td>NaN</td>\n",
       "      <td>NaN</td>\n",
       "      <td>NaN</td>\n",
       "      <td>NaN</td>\n",
       "      <td>NaN</td>\n",
       "      <td>NaN</td>\n",
       "      <td>NaN</td>\n",
       "      <td>NaN</td>\n",
       "      <td>NaN</td>\n",
       "    </tr>\n",
       "    <tr>\n",
       "      <th>3</th>\n",
       "      <td>4</td>\n",
       "      <td>Pete Sampras</td>\n",
       "      <td>1971-08-12 00:00:00</td>\n",
       "      <td>USA</td>\n",
       "      <td>NaN</td>\n",
       "      <td>NaN</td>\n",
       "      <td>NaN</td>\n",
       "      <td>NaN</td>\n",
       "      <td>NaN</td>\n",
       "      <td>NaN</td>\n",
       "      <td>...</td>\n",
       "      <td>NaN</td>\n",
       "      <td>NaN</td>\n",
       "      <td>NaN</td>\n",
       "      <td>NaN</td>\n",
       "      <td>NaN</td>\n",
       "      <td>NaN</td>\n",
       "      <td>NaN</td>\n",
       "      <td>NaN</td>\n",
       "      <td>NaN</td>\n",
       "      <td>NaN</td>\n",
       "    </tr>\n",
       "    <tr>\n",
       "      <th>4</th>\n",
       "      <td>5</td>\n",
       "      <td>Magnus Norman</td>\n",
       "      <td>1976-05-30 00:00:00</td>\n",
       "      <td>SWE</td>\n",
       "      <td>NaN</td>\n",
       "      <td>NaN</td>\n",
       "      <td>NaN</td>\n",
       "      <td>NaN</td>\n",
       "      <td>NaN</td>\n",
       "      <td>NaN</td>\n",
       "      <td>...</td>\n",
       "      <td>NaN</td>\n",
       "      <td>NaN</td>\n",
       "      <td>NaN</td>\n",
       "      <td>NaN</td>\n",
       "      <td>NaN</td>\n",
       "      <td>NaN</td>\n",
       "      <td>NaN</td>\n",
       "      <td>NaN</td>\n",
       "      <td>NaN</td>\n",
       "      <td>NaN</td>\n",
       "    </tr>\n",
       "  </tbody>\n",
       "</table>\n",
       "<p>5 rows × 23 columns</p>\n",
       "</div>"
      ],
      "text/plain": [
       "   ID_P           NAME_P               DATE_P COUNTRY_P  RANK_P  PROGRESS_P  \\\n",
       "0     1  Gustavo Kuerten  1976-09-10 00:00:00       BRA     NaN         NaN   \n",
       "1     2      Marat Safin  1980-01-27 00:00:00       RUS     NaN         NaN   \n",
       "2     3     Andre Agassi  1970-04-29 00:00:00       USA     NaN         NaN   \n",
       "3     4     Pete Sampras  1971-08-12 00:00:00       USA     NaN         NaN   \n",
       "4     5    Magnus Norman  1976-05-30 00:00:00       SWE     NaN         NaN   \n",
       "\n",
       "   POINT_P  HARDPOINT_P  HARDTOUR_P  CLAYPOINT_P  ...  CARPETPOINT_P  \\\n",
       "0      NaN          NaN         NaN          NaN  ...            NaN   \n",
       "1      NaN          NaN         NaN          NaN  ...            NaN   \n",
       "2      NaN          NaN         NaN          NaN  ...            NaN   \n",
       "3      NaN          NaN         NaN          NaN  ...            NaN   \n",
       "4      NaN          NaN         NaN          NaN  ...            NaN   \n",
       "\n",
       "   CARPETTOUR_P  PRIZE_P  CH_P  DR_P  DP_P  DO_P  IHARDPOINT_P  IHARDTOUR_P  \\\n",
       "0           NaN      NaN   NaN   NaN   NaN   NaN           NaN          NaN   \n",
       "1           NaN      NaN   NaN   NaN   NaN   NaN           NaN          NaN   \n",
       "2           NaN      NaN   NaN   NaN   NaN   NaN           NaN          NaN   \n",
       "3           NaN      NaN   NaN   NaN   NaN   NaN           NaN          NaN   \n",
       "4           NaN      NaN   NaN   NaN   NaN   NaN           NaN          NaN   \n",
       "\n",
       "   ITF_ID  \n",
       "0     NaN  \n",
       "1     NaN  \n",
       "2     NaN  \n",
       "3     NaN  \n",
       "4     NaN  \n",
       "\n",
       "[5 rows x 23 columns]"
      ]
     },
<<<<<<< HEAD
     "execution_count": 6,
=======
     "execution_count": 52,
>>>>>>> 1e9086aa1e1aa6ee7a128624c11e27d6e1245026
     "metadata": {},
     "output_type": "execute_result"
    }
   ],
   "source": [
    "data_players.head()"
   ]
  },
  {
   "cell_type": "markdown",
   "metadata": {},
   "source": [
    "The table containing information on each player"
   ]
  },
  {
   "cell_type": "markdown",
   "metadata": {},
   "source": [
    "</br>"
   ]
  },
  {
   "cell_type": "code",
<<<<<<< HEAD
   "execution_count": 7,
=======
   "execution_count": 53,
>>>>>>> 1e9086aa1e1aa6ee7a128624c11e27d6e1245026
   "metadata": {},
   "outputs": [
    {
     "data": {
      "text/html": [
       "<div>\n",
       "<style scoped>\n",
       "    .dataframe tbody tr th:only-of-type {\n",
       "        vertical-align: middle;\n",
       "    }\n",
       "\n",
       "    .dataframe tbody tr th {\n",
       "        vertical-align: top;\n",
       "    }\n",
       "\n",
       "    .dataframe thead th {\n",
       "        text-align: right;\n",
       "    }\n",
       "</style>\n",
       "<table border=\"1\" class=\"dataframe\">\n",
       "  <thead>\n",
       "    <tr style=\"text-align: right;\">\n",
       "      <th></th>\n",
       "      <th>DATE_R</th>\n",
       "      <th>ID_P_R</th>\n",
       "      <th>POINT_R</th>\n",
       "      <th>POS_R</th>\n",
       "    </tr>\n",
       "  </thead>\n",
       "  <tbody>\n",
       "    <tr>\n",
       "      <th>0</th>\n",
       "      <td>2012-01-02 00:00:00</td>\n",
       "      <td>5992</td>\n",
       "      <td>13630</td>\n",
       "      <td>1</td>\n",
       "    </tr>\n",
       "    <tr>\n",
       "      <th>1</th>\n",
       "      <td>2012-01-02 00:00:00</td>\n",
       "      <td>677</td>\n",
       "      <td>9595</td>\n",
       "      <td>2</td>\n",
       "    </tr>\n",
       "    <tr>\n",
       "      <th>2</th>\n",
       "      <td>2012-01-02 00:00:00</td>\n",
       "      <td>19</td>\n",
       "      <td>8170</td>\n",
       "      <td>3</td>\n",
       "    </tr>\n",
       "    <tr>\n",
       "      <th>3</th>\n",
       "      <td>2012-01-02 00:00:00</td>\n",
       "      <td>1075</td>\n",
       "      <td>7380</td>\n",
       "      <td>4</td>\n",
       "    </tr>\n",
       "    <tr>\n",
       "      <th>4</th>\n",
       "      <td>2012-01-02 00:00:00</td>\n",
       "      <td>673</td>\n",
       "      <td>4925</td>\n",
       "      <td>5</td>\n",
       "    </tr>\n",
       "  </tbody>\n",
       "</table>\n",
       "</div>"
      ],
      "text/plain": [
       "                DATE_R  ID_P_R  POINT_R  POS_R\n",
       "0  2012-01-02 00:00:00    5992    13630      1\n",
       "1  2012-01-02 00:00:00     677     9595      2\n",
       "2  2012-01-02 00:00:00      19     8170      3\n",
       "3  2012-01-02 00:00:00    1075     7380      4\n",
       "4  2012-01-02 00:00:00     673     4925      5"
      ]
     },
<<<<<<< HEAD
     "execution_count": 7,
=======
     "execution_count": 53,
>>>>>>> 1e9086aa1e1aa6ee7a128624c11e27d6e1245026
     "metadata": {},
     "output_type": "execute_result"
    }
   ],
   "source": [
    "data_playerate.head()"
   ]
  },
  {
   "cell_type": "markdown",
   "metadata": {},
   "source": [
    "Table containing the ranking of each player per year"
   ]
  },
  {
   "cell_type": "markdown",
   "metadata": {},
   "source": [
    "</br>"
   ]
  },
  {
   "cell_type": "code",
<<<<<<< HEAD
   "execution_count": 8,
=======
   "execution_count": 54,
>>>>>>> 1e9086aa1e1aa6ee7a128624c11e27d6e1245026
   "metadata": {},
   "outputs": [
    {
     "data": {
      "text/html": [
       "<div>\n",
       "<style scoped>\n",
       "    .dataframe tbody tr th:only-of-type {\n",
       "        vertical-align: middle;\n",
       "    }\n",
       "\n",
       "    .dataframe tbody tr th {\n",
       "        vertical-align: top;\n",
       "    }\n",
       "\n",
       "    .dataframe thead th {\n",
       "        text-align: right;\n",
       "    }\n",
       "</style>\n",
       "<table border=\"1\" class=\"dataframe\">\n",
       "  <thead>\n",
       "    <tr style=\"text-align: right;\">\n",
       "      <th></th>\n",
       "      <th>ID_T</th>\n",
       "      <th>NAME_T</th>\n",
       "      <th>ID_C_T</th>\n",
       "      <th>DATE_T</th>\n",
       "      <th>RANK_T</th>\n",
       "      <th>LINK_T</th>\n",
       "      <th>COUNTRY_T</th>\n",
       "      <th>PRIZE_T</th>\n",
       "      <th>RATING_T</th>\n",
       "      <th>URL_T</th>\n",
       "      <th>...</th>\n",
       "      <th>SITE_T</th>\n",
       "      <th>RACE_T</th>\n",
       "      <th>ENTRY_T</th>\n",
       "      <th>SINGLES_T</th>\n",
       "      <th>DOUBLES_T</th>\n",
       "      <th>TIER_T</th>\n",
       "      <th>RESERVE_INT_T</th>\n",
       "      <th>RESERVE_CHAR_T</th>\n",
       "      <th>LIVE_T</th>\n",
       "      <th>RESULT_T</th>\n",
       "    </tr>\n",
       "  </thead>\n",
       "  <tbody>\n",
       "    <tr>\n",
       "      <th>0</th>\n",
       "      <td>1</td>\n",
       "      <td>Australian Men's Hardcourt Championships - Ade...</td>\n",
       "      <td>1</td>\n",
       "      <td>1997-01-01 00:00:00</td>\n",
       "      <td>2</td>\n",
       "      <td>1600.0</td>\n",
       "      <td>AUS</td>\n",
       "      <td>$303K</td>\n",
       "      <td>NaN</td>\n",
       "      <td>NaN</td>\n",
       "      <td>...</td>\n",
       "      <td>NaN</td>\n",
       "      <td>NaN</td>\n",
       "      <td>NaN</td>\n",
       "      <td>NaN</td>\n",
       "      <td>NaN</td>\n",
       "      <td>NaN</td>\n",
       "      <td>NaN</td>\n",
       "      <td>NaN</td>\n",
       "      <td>NaN</td>\n",
       "      <td>NaN</td>\n",
       "    </tr>\n",
       "    <tr>\n",
       "      <th>1</th>\n",
       "      <td>2</td>\n",
       "      <td>Qatar Mobil Open - Doha</td>\n",
       "      <td>1</td>\n",
       "      <td>1997-01-01 00:00:00</td>\n",
       "      <td>2</td>\n",
       "      <td>1601.0</td>\n",
       "      <td>QAT</td>\n",
       "      <td>$600K</td>\n",
       "      <td>NaN</td>\n",
       "      <td>NaN</td>\n",
       "      <td>...</td>\n",
       "      <td>NaN</td>\n",
       "      <td>NaN</td>\n",
       "      <td>NaN</td>\n",
       "      <td>NaN</td>\n",
       "      <td>NaN</td>\n",
       "      <td>NaN</td>\n",
       "      <td>NaN</td>\n",
       "      <td>NaN</td>\n",
       "      <td>NaN</td>\n",
       "      <td>NaN</td>\n",
       "    </tr>\n",
       "    <tr>\n",
       "      <th>2</th>\n",
       "      <td>3</td>\n",
       "      <td>BellSouth Open - Auckland</td>\n",
       "      <td>1</td>\n",
       "      <td>1997-01-06 00:00:00</td>\n",
       "      <td>2</td>\n",
       "      <td>1603.0</td>\n",
       "      <td>NZL</td>\n",
       "      <td>$303K</td>\n",
       "      <td>NaN</td>\n",
       "      <td>NaN</td>\n",
       "      <td>...</td>\n",
       "      <td>NaN</td>\n",
       "      <td>NaN</td>\n",
       "      <td>NaN</td>\n",
       "      <td>NaN</td>\n",
       "      <td>NaN</td>\n",
       "      <td>NaN</td>\n",
       "      <td>NaN</td>\n",
       "      <td>NaN</td>\n",
       "      <td>NaN</td>\n",
       "      <td>NaN</td>\n",
       "    </tr>\n",
       "    <tr>\n",
       "      <th>3</th>\n",
       "      <td>4</td>\n",
       "      <td>Sydney International - Sydney</td>\n",
       "      <td>1</td>\n",
       "      <td>1997-01-06 00:00:00</td>\n",
       "      <td>2</td>\n",
       "      <td>1604.0</td>\n",
       "      <td>AUS</td>\n",
       "      <td>$303K</td>\n",
       "      <td>NaN</td>\n",
       "      <td>NaN</td>\n",
       "      <td>...</td>\n",
       "      <td>NaN</td>\n",
       "      <td>NaN</td>\n",
       "      <td>NaN</td>\n",
       "      <td>NaN</td>\n",
       "      <td>NaN</td>\n",
       "      <td>NaN</td>\n",
       "      <td>NaN</td>\n",
       "      <td>NaN</td>\n",
       "      <td>NaN</td>\n",
       "      <td>NaN</td>\n",
       "    </tr>\n",
       "    <tr>\n",
       "      <th>4</th>\n",
       "      <td>5</td>\n",
       "      <td>Australian Open - Melbourne</td>\n",
       "      <td>1</td>\n",
       "      <td>1997-01-13 00:00:00</td>\n",
       "      <td>4</td>\n",
       "      <td>1605.0</td>\n",
       "      <td>AUS</td>\n",
       "      <td>$3.538M</td>\n",
       "      <td>NaN</td>\n",
       "      <td>NaN</td>\n",
       "      <td>...</td>\n",
       "      <td>NaN</td>\n",
       "      <td>NaN</td>\n",
       "      <td>NaN</td>\n",
       "      <td>NaN</td>\n",
       "      <td>NaN</td>\n",
       "      <td>NaN</td>\n",
       "      <td>NaN</td>\n",
       "      <td>NaN</td>\n",
       "      <td>NaN</td>\n",
       "      <td>NaN</td>\n",
       "    </tr>\n",
       "  </tbody>\n",
       "</table>\n",
       "<p>5 rows × 22 columns</p>\n",
       "</div>"
      ],
      "text/plain": [
       "   ID_T                                             NAME_T  ID_C_T  \\\n",
       "0     1  Australian Men's Hardcourt Championships - Ade...       1   \n",
       "1     2                            Qatar Mobil Open - Doha       1   \n",
       "2     3                          BellSouth Open - Auckland       1   \n",
       "3     4                      Sydney International - Sydney       1   \n",
       "4     5                        Australian Open - Melbourne       1   \n",
       "\n",
       "                DATE_T  RANK_T  LINK_T COUNTRY_T  PRIZE_T  RATING_T URL_T  \\\n",
       "0  1997-01-01 00:00:00       2  1600.0       AUS    $303K       NaN   NaN   \n",
       "1  1997-01-01 00:00:00       2  1601.0       QAT    $600K       NaN   NaN   \n",
       "2  1997-01-06 00:00:00       2  1603.0       NZL    $303K       NaN   NaN   \n",
       "3  1997-01-06 00:00:00       2  1604.0       AUS    $303K       NaN   NaN   \n",
       "4  1997-01-13 00:00:00       4  1605.0       AUS  $3.538M       NaN   NaN   \n",
       "\n",
       "   ...  SITE_T  RACE_T  ENTRY_T  SINGLES_T  DOUBLES_T  TIER_T  RESERVE_INT_T  \\\n",
       "0  ...     NaN     NaN      NaN        NaN        NaN     NaN            NaN   \n",
       "1  ...     NaN     NaN      NaN        NaN        NaN     NaN            NaN   \n",
       "2  ...     NaN     NaN      NaN        NaN        NaN     NaN            NaN   \n",
       "3  ...     NaN     NaN      NaN        NaN        NaN     NaN            NaN   \n",
       "4  ...     NaN     NaN      NaN        NaN        NaN     NaN            NaN   \n",
       "\n",
       "  RESERVE_CHAR_T  LIVE_T RESULT_T  \n",
       "0            NaN     NaN      NaN  \n",
       "1            NaN     NaN      NaN  \n",
       "2            NaN     NaN      NaN  \n",
       "3            NaN     NaN      NaN  \n",
       "4            NaN     NaN      NaN  \n",
       "\n",
       "[5 rows x 22 columns]"
      ]
     },
<<<<<<< HEAD
     "execution_count": 8,
=======
     "execution_count": 54,
>>>>>>> 1e9086aa1e1aa6ee7a128624c11e27d6e1245026
     "metadata": {},
     "output_type": "execute_result"
    }
   ],
   "source": [
    "data_tour.head()"
   ]
  },
  {
   "cell_type": "markdown",
   "metadata": {},
   "source": [
    "Table containing information about each tournement"
   ]
  },
  {
   "cell_type": "markdown",
   "metadata": {},
   "source": [
    "## Data pre-processing "
   ]
  },
  {
   "cell_type": "markdown",
   "metadata": {},
   "source": [
    "### Missing values"
   ]
  },
  {
   "cell_type": "code",
   "execution_count": 55,
   "metadata": {},
   "outputs": [
    {
     "data": {
      "text/plain": [
       "ID1_G       0.0\n",
       "ID2_G       0.0\n",
       "ID_T_G      0.0\n",
       "ID_R_G      0.0\n",
       "RESULT_G    0.0\n",
       "DATE_G      0.0\n",
       "dtype: float64"
      ]
     },
     "execution_count": 55,
     "metadata": {},
     "output_type": "execute_result"
    }
   ],
   "source": [
    "data_train.isnull().sum()/data_train.shape[0] * 100"
   ]
  },
  {
   "cell_type": "code",
   "execution_count": 56,
   "metadata": {},
   "outputs": [
    {
     "data": {
      "text/plain": [
       "ID_P              0.000000\n",
       "NAME_P            0.000000\n",
       "DATE_P           51.905979\n",
       "COUNTRY_P        50.790108\n",
       "RANK_P           98.380188\n",
       "PROGRESS_P       98.380188\n",
       "POINT_P          98.380188\n",
       "HARDPOINT_P      98.380188\n",
       "HARDTOUR_P       98.380188\n",
       "CLAYPOINT_P      98.380188\n",
       "CLAYTOUR_P       98.380188\n",
       "GRASSPOINT_P     98.380188\n",
       "GRASSTOUR_P      98.380188\n",
       "CARPETPOINT_P    98.380188\n",
       "CARPETTOUR_P     98.380188\n",
       "PRIZE_P          96.880962\n",
       "CH_P             99.820021\n",
       "DR_P             98.380188\n",
       "DP_P             98.380188\n",
       "DO_P             98.380188\n",
       "IHARDPOINT_P     98.380188\n",
       "IHARDTOUR_P      98.380188\n",
       "ITF_ID           71.912458\n",
       "dtype: float64"
      ]
     },
     "execution_count": 56,
     "metadata": {},
     "output_type": "execute_result"
    }
   ],
   "source": [
    "data_players.isnull().sum()/data_players.shape[0] * 100"
   ]
  },
  {
   "cell_type": "markdown",
   "metadata": {},
   "source": [
    "As it is shown for the table players most features are Null, and we could not use any of the technique to complete them"
   ]
  },
  {
   "cell_type": "code",
   "execution_count": 57,
   "metadata": {},
   "outputs": [
    {
     "data": {
      "text/plain": [
       "DATE_R     0.0\n",
       "ID_P_R     0.0\n",
       "POINT_R    0.0\n",
       "POS_R      0.0\n",
       "dtype: float64"
      ]
     },
     "execution_count": 57,
     "metadata": {},
     "output_type": "execute_result"
    }
   ],
   "source": [
    "data_playerate.isnull().sum()/data_playerate.shape[0] * 100"
   ]
  },
  {
   "cell_type": "code",
   "execution_count": 58,
   "metadata": {
    "scrolled": true
   },
   "outputs": [
    {
     "data": {
      "text/plain": [
       "ID1         0.000000\n",
       "ID2         0.000000\n",
       "ID_T        0.000000\n",
       "ID_R        0.000000\n",
       "FS_1        0.002645\n",
       "FSOF_1      0.002645\n",
       "ACES_1      0.942984\n",
       "DF_1        0.293608\n",
       "UE_1       92.899181\n",
       "W1S_1       0.000000\n",
       "W1SOF_1     0.000000\n",
       "W2S_1       0.001323\n",
       "W2SOF_1     0.001323\n",
       "WIS_1      92.878020\n",
       "BP_1        0.023806\n",
       "BPOF_1      0.023806\n",
       "NA_1       96.396027\n",
       "NAOF_1     96.396027\n",
       "TPW_1       0.000000\n",
       "FAST_1     97.733134\n",
       "A1S_1      97.776779\n",
       "A2S_1      97.776779\n",
       "FS_2        0.002645\n",
       "FSOF_2      0.002645\n",
       "ACES_2      0.945630\n",
       "DF_2        0.294931\n",
       "UE_2       92.899181\n",
       "W1S_2       0.000000\n",
       "W1SOF_2     0.000000\n",
       "W2S_2       0.001323\n",
       "W2SOF_2     0.001323\n",
       "WIS_2      92.878020\n",
       "BP_2        0.034387\n",
       "BPOF_2      0.027774\n",
       "NA_2       96.396027\n",
       "NAOF_2     96.397350\n",
       "TPW_2       0.000000\n",
       "FAST_2     97.733134\n",
       "A1S_2      97.776779\n",
       "A2S_2      97.776779\n",
       "RPW_1       0.641441\n",
       "RPWOF_1     0.641441\n",
       "RPW_2       0.641441\n",
       "RPWOF_2     0.641441\n",
       "MT          0.470831\n",
       "dtype: float64"
      ]
     },
     "execution_count": 58,
     "metadata": {},
     "output_type": "execute_result"
    }
   ],
   "source": [
    "data_stats.isnull().sum()/data_stats.shape[0] * 100"
   ]
  },
  {
   "cell_type": "markdown",
   "metadata": {},
   "source": [
    "Some columns contains lot of missing values, I will drop them since I could not replace them with certain values (mean, median)</br>\n",
    "I should mention that during the next step, \"data preprocessing\", I will complete the missing values, drop certain columns and make opperations between columns having a certain correlation"
   ]
  },
  {
   "cell_type": "code",
   "execution_count": 59,
   "metadata": {
    "scrolled": true
   },
   "outputs": [
    {
     "data": {
      "text/plain": [
       "ID_T                0.000000\n",
       "NAME_T              0.000000\n",
       "ID_C_T              0.000000\n",
       "DATE_T              0.000000\n",
       "RANK_T              0.000000\n",
       "LINK_T             64.675678\n",
       "COUNTRY_T           0.000000\n",
       "PRIZE_T            10.820811\n",
       "RATING_T           93.324775\n",
       "URL_T              80.125349\n",
       "LATITUDE_T         58.038209\n",
       "LONGITUDE_T        58.038209\n",
       "SITE_T             83.478064\n",
       "RACE_T             85.026051\n",
       "ENTRY_T            85.010949\n",
       "SINGLES_T          94.193159\n",
       "DOUBLES_T          94.200710\n",
       "TIER_T             89.262252\n",
       "RESERVE_INT_T     100.000000\n",
       "RESERVE_CHAR_T     63.641169\n",
       "LIVE_T            100.000000\n",
       "RESULT_T           98.648343\n",
       "dtype: float64"
      ]
     },
     "execution_count": 59,
     "metadata": {},
     "output_type": "execute_result"
    }
   ],
   "source": [
    "data_tour.isnull().sum()/data_tour.shape[0] * 100"
   ]
  },
  {
   "cell_type": "markdown",
   "metadata": {},
   "source": [
    "## Filling missing values "
   ]
  },
  {
   "cell_type": "markdown",
   "metadata": {},
   "source": [
    "The first data preprocessing is to combine columns with hight correlation, without any calculations, we can understaind that for the number of winning point during the first serve is correlated to the number of first serve W1S_1 to W1SOF_1 (same for player2), so I will combine this two columns in one column reflecting the rate of winning first serve </br>\n",
    "The same idea goes for many columns : </br>\n",
    "W1S_1 and W1SOF_1</br>\n",
    "W2S_1 and W2SOF_1</br>\n",
    "FS_1 and FS_OF_1</br>\n",
    "BP_1 and BPOF_1</br>\n",
    "RPW_1 and RPW_OF1</br>\n",
    "and the same thing goes for player 2 </br>\n",
    "Then I will drop thes columns"
   ]
  },
  {
   "cell_type": "code",
   "execution_count": 60,
   "metadata": {},
   "outputs": [],
   "source": [
    "tuples = [('W1SR_1', 'W1S_1', 'W1SOF_1'),\n",
    "          ('W2SR_1', 'W2S_1', 'W2SOF_1'),\n",
    "          ('FSR_1', 'FS_1', 'FSOF_1'),\n",
    "          ('BPR_1', 'BP_1', 'BPOF_1'),\n",
    "          ('RPWR_1', 'RPW_1', 'RPWOF_1'),\n",
    "          ('W1SR_2', 'W1S_2', 'W1SOF_2'),\n",
    "          ('W2SR_2', 'W2S_2', 'W2SOF_2'),\n",
    "          ('FSR_2', 'FS_2', 'FSOF_2'),\n",
    "          ('BPR_2', 'BP_2', 'BPOF_2'),\n",
    "          ('RPWR_2', 'RPW_2', 'RPWOF_2'),\n",
    "]\n",
    "for tup in tuples:\n",
    "    data_stats[tup[0]] = data_stats[tup[1]] / data_stats[tup[2]]"
   ]
  },
  {
   "cell_type": "code",
   "execution_count": 61,
   "metadata": {},
   "outputs": [],
   "source": [
    "data_stats.drop(['W1S_1', 'W1SOF_1', 'W2S_1', 'W2SOF_1', 'FS_1', 'FSOF_1', 'BP_1', 'BPOF_1', 'RPW_1', 'RPWOF_1', \n",
    "                 'W1S_2', 'W1SOF_2', 'W2S_2', 'W2SOF_2', 'FS_2', 'FSOF_2', 'BP_2', 'BPOF_2', 'RPW_2', 'RPWOF_2'],\n",
    "               inplace = True, axis = 1)"
   ]
  },
  {
   "cell_type": "code",
   "execution_count": 62,
   "metadata": {},
   "outputs": [],
   "source": [
    "data_stats.drop(['UE_1', 'WIS_1', 'NA_1', 'NAOF_1', 'A1S_1', 'A2S_1', 'FAST_1',\n",
    "                 'UE_2', 'WIS_2', 'NA_2', 'NAOF_2', 'A1S_2', 'A2S_2', 'FAST_2'],\n",
    "               inplace = True, axis = 1)"
   ]
  },
  {
   "cell_type": "code",
   "execution_count": 63,
   "metadata": {
    "scrolled": true
   },
   "outputs": [
    {
     "data": {
      "text/plain": [
       "ID1        0.000000\n",
       "ID2        0.000000\n",
       "ID_T       0.000000\n",
       "ID_R       0.000000\n",
       "ACES_1     0.942984\n",
       "DF_1       0.293608\n",
       "TPW_1      0.000000\n",
       "ACES_2     0.945630\n",
       "DF_2       0.294931\n",
       "TPW_2      0.000000\n",
       "MT         0.470831\n",
       "W1SR_1     0.014548\n",
       "W2SR_1     0.025129\n",
       "FSR_1      0.014548\n",
       "BPR_1      0.220867\n",
       "RPWR_1     0.649376\n",
       "W1SR_2     0.010580\n",
       "W2SR_2     0.026451\n",
       "FSR_2      0.010580\n",
       "BPR_2     10.091124\n",
       "RPWR_2     0.653344\n",
       "dtype: float64"
      ]
     },
     "execution_count": 63,
     "metadata": {},
     "output_type": "execute_result"
    }
   ],
   "source": [
    "data_stats.isnull().sum()/data_stats.shape[0] * 100"
   ]
  },
  {
   "cell_type": "markdown",
   "metadata": {},
   "source": [
    "## Data format"
   ]
  },
  {
   "cell_type": "code",
   "execution_count": 64,
   "metadata": {},
   "outputs": [],
   "source": [
    "# Formattage des colonnes dates\n",
    "def date_tras(df,name):\n",
    "    df[name] = pd.to_datetime(df[name])"
   ]
  },
  {
   "cell_type": "code",
   "execution_count": 65,
   "metadata": {},
   "outputs": [],
   "source": [
    "date_tras(data_train,'DATE_G')\n",
    "date_tras(data_stats,'MT')\n",
    "date_tras(data_playerate,'DATE_R')"
   ]
  },
  {
   "cell_type": "markdown",
   "metadata": {},
   "source": [
    "# Some stats "
   ]
  },
  {
   "cell_type": "code",
   "execution_count": 66,
   "metadata": {},
   "outputs": [
    {
     "name": "stdout",
     "output_type": "stream",
     "text": [
      "The number of training examples: 73366 \n",
      "The number of training features: 6\n"
     ]
    }
   ],
   "source": [
    "print(\"The number of training examples: {} \\nThe number of training features: {}\".format(data_train.shape[0],data_train.shape[1]))"
   ]
  },
  {
   "cell_type": "code",
   "execution_count": 67,
   "metadata": {},
   "outputs": [
    {
     "name": "stdout",
     "output_type": "stream",
     "text": [
      "Number of distinct players : 55562 \n",
      "The number of training features: 23\n"
     ]
    }
   ],
   "source": [
    "print(\"Number of distinct players : {} \\nThe number of training features: {}\".format(data_players.NAME_P.unique().shape[0],data_players.shape[1]))"
   ]
  },
  {
   "cell_type": "code",
   "execution_count": 68,
   "metadata": {},
   "outputs": [
    {
     "name": "stdout",
     "output_type": "stream",
     "text": [
      "Number of distinct tournement : 4412 \n",
      "The number of training features: 22\n"
     ]
    }
   ],
   "source": [
    "print(\"Number of distinct tournement : {} \\nThe number of training features: {}\".format(data_tour.NAME_T.unique().shape[0],data_tour.shape[1]))"
   ]
  },
  {
   "cell_type": "markdown",
   "metadata": {},
   "source": [
    "### The top ten winners player"
   ]
  },
  {
   "cell_type": "code",
   "execution_count": 69,
   "metadata": {
    "scrolled": false
   },
   "outputs": [],
   "source": [
    "top10player = {}\n",
    "top10player_list = data_stats.ID1.value_counts().head(10)\n",
    "for player_idx in top10player_list.index:\n",
    "    top10player[data_players.NAME_P[data_players.ID_P == player_idx].iloc[0]] = top10player_list.loc[player_idx]"
   ]
  },
  {
   "cell_type": "code",
   "execution_count": 70,
   "metadata": {},
   "outputs": [
    {
     "data": {
      "image/png": "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\n",
      "text/plain": [
       "<Figure size 1080x720 with 1 Axes>"
      ]
     },
     "metadata": {
      "needs_background": "light"
     },
     "output_type": "display_data"
    }
   ],
   "source": [
    "plt.figure(figsize=(15,10))\n",
    "plt.bar(range(len(top10player)), top10player.values(), align='center', color = 'green',alpha= 0.3)\n",
    "plt.xticks(range(len(top10player)), list(top10player.keys()))\n",
    "plt.title(\"The top 10 player\")\n",
    "plt.show()"
   ]
  },
  {
   "cell_type": "markdown",
   "metadata": {},
   "source": [
    "#### Correlation matrix for top 10 players"
   ]
  },
  {
   "cell_type": "code",
   "execution_count": 71,
   "metadata": {},
   "outputs": [],
   "source": [
    "data_stats['top_ten'] = data_stats.ID1.apply(lambda x: x in top10player_list.index)"
   ]
  },
  {
   "cell_type": "code",
   "execution_count": 72,
   "metadata": {},
   "outputs": [],
   "source": [
    "data_stats_top_ten = data_stats[data_stats.top_ten == True]"
   ]
  },
  {
   "cell_type": "code",
   "execution_count": 73,
   "metadata": {},
   "outputs": [],
   "source": [
    "corr = data_stats_top_ten[['ID1','DF_1', 'TPW_1','ACES_1','W1SR_1', 'W2SR_1', 'FSR_1', 'BPR_1', 'RPWR_1','ID_R']].corr()"
   ]
  },
  {
   "cell_type": "code",
   "execution_count": 74,
   "metadata": {},
   "outputs": [
    {
     "data": {
      "text/plain": [
       "<matplotlib.axes._subplots.AxesSubplot at 0x7f79e8154860>"
      ]
     },
     "execution_count": 74,
     "metadata": {},
     "output_type": "execute_result"
    },
    {
     "data": {
      "image/png": "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\n",
      "text/plain": [
       "<Figure size 792x648 with 2 Axes>"
      ]
     },
     "metadata": {
      "needs_background": "light"
     },
     "output_type": "display_data"
    }
   ],
   "source": [
    "mask = np.zeros_like(corr, dtype=np.bool)\n",
    "mask[np.triu_indices_from(mask)] = True\n",
    "f, ax = plt.subplots(figsize=(11, 9))\n",
    "cmap = sns.diverging_palette(220, 10, as_cmap=True)\n",
    "sns.heatmap(corr, mask=mask, cmap=cmap, vmax=.3, center=0,\n",
    "            square=True, linewidths=.5, cbar_kws={\"shrink\": .5})"
   ]
  },
  {
   "cell_type": "markdown",
   "metadata": {},
   "source": [
    "In the graph there is some logical results and other that need to be reviewd, the winning rate is positively correlated to the number of Double faults is so strange, but for other metrics they are logicaly correlated :D.</br>\n",
    "We notice that the winning rate is so correlated with number of aces, which means that the player wins easely the point and the match is not so challenging.</br>\n",
    "Same thing goes for the other features"
   ]
  },
  {
   "cell_type": "markdown",
   "metadata": {},
   "source": [
    "### top 3 Favorit tournements for the 10 top players"
   ]
  },
  {
   "cell_type": "code",
   "execution_count": 75,
   "metadata": {},
   "outputs": [],
   "source": [
    "player_tournement = {}\n",
    "for player_idx in top10player_list.index:\n",
    "    player_name = data_players.NAME_P[data_players.ID_P == player_idx].iloc[0]\n",
    "    player_tournement[player_name] = data_stats.ID_T[data_stats.ID1 == player_idx].value_counts().head(3)\n",
    "    player_tournement[player_name].index = list(data_tour.NAME_T.iloc[player_tournement[player_name].index])"
   ]
  },
  {
   "cell_type": "code",
   "execution_count": 76,
   "metadata": {
    "scrolled": true
   },
   "outputs": [
    {
     "name": "stdout",
     "output_type": "stream",
     "text": [
      "Top 3 tournement for 'Novak Djokovic'\n",
      "Davis Cup, Group II, PO, TUN-BLR 2-3    7\n",
      "USA F14                                 7\n",
      "Algeria F1                              7\n",
      "Name: ID_T, dtype: int64\n",
      "\n",
      "\n",
      "Top 3 tournement for 'Roger Federer'\n",
      "Davis Cup, Group I, 2R, BRA-COL 3-1    7\n",
      "Algeria F1                             6\n",
      "France F9                              6\n",
      "Name: ID_T, dtype: int64\n",
      "\n",
      "\n",
      "Top 3 tournement for 'Andy Murray'\n",
      "Davis Cup, Group II, PO, HKG-SRI 2-3    7\n",
      "Mexico F2                               7\n",
      "Great Britain F11                       7\n",
      "Name: ID_T, dtype: int64\n",
      "\n",
      "\n",
      "Top 3 tournement for 'David Ferrer'\n",
      "Mexico F6                               6\n",
      "Sweden F2                               5\n",
      "Davis Cup, Group II, PO, HKG-SRI 2-3    5\n",
      "Name: ID_T, dtype: int64\n",
      "\n",
      "\n",
      "Top 3 tournement for 'Tomas Berdych'\n",
      "France F9    5\n",
      "Mexico F2    5\n",
      "USA F12      5\n",
      "Name: ID_T, dtype: int64\n",
      "\n",
      "\n",
      "Top 3 tournement for 'Rafael Nadal'\n",
      "Kazakhstan F5                          7\n",
      "Davis Cup, Group I, 2R, NED-ROU 5-0    7\n",
      "Mexico F6                              7\n",
      "Name: ID_T, dtype: int64\n",
      "\n",
      "\n",
      "Top 3 tournement for 'Kei Nishikori'\n",
      "Czech Republic F2    6\n",
      "Great Britain F11    5\n",
      "Mexico F3            5\n",
      "Name: ID_T, dtype: int64\n",
      "\n",
      "\n",
      "Top 3 tournement for 'Paolo Lorenzi'\n",
      "Bangkok Challenger       5\n",
      "Casablanca Challenger    5\n",
      "Vietnam F4               5\n",
      "Name: ID_T, dtype: int64\n",
      "\n",
      "\n",
      "Top 3 tournement for 'Milos Raonic'\n",
      "Mexico F2            6\n",
      "Czech Republic F1    5\n",
      "India F5             5\n",
      "Name: ID_T, dtype: int64\n",
      "\n",
      "\n",
      "Top 3 tournement for 'David Goffin'\n",
      "Portugal F12                           5\n",
      "Norway F1                              5\n",
      "Davis Cup, Group I, 2R, NED-ROU 5-0    5\n",
      "Name: ID_T, dtype: int64\n",
      "\n",
      "\n"
     ]
    }
   ],
   "source": [
    "for player in player_tournement:\n",
    "    print(\"Top 3 tournement for '{}'\".format(player))\n",
    "    print(player_tournement[player])\n",
    "    print(\"\\n\")"
   ]
  },
  {
   "cell_type": "markdown",
   "metadata": {},
   "source": [
    "It is so clear that this dataset is so old as these players won lot of well known tournements </br> <font color=\"red\">'NADAL' and 'Kazakhstan' so weird !!!!!</font>"
   ]
  },
  {
   "cell_type": "markdown",
   "metadata": {},
   "source": [
    "## Feature preparation"
   ]
  },
  {
   "cell_type": "markdown",
   "metadata": {},
   "source": [
    "#### functions definition"
   ]
  },
  {
   "cell_type": "code",
   "execution_count": 77,
   "metadata": {},
   "outputs": [],
   "source": [
    "# Récuperer les statistique des derniers n matches entre (player1_id,player2_id)\n",
    "def last_n_match(player1_id,player2_id,n,dt_curr):\n",
    "    a = np.bitwise_and((data_stats.ID1 == player1_id).values,(data_stats.ID2 == player2_id).values)    \n",
    "    b = np.bitwise_and((data_stats.ID1 == player2_id) , (data_stats.ID2 == player1_id))\n",
    "    x = np.bitwise_or(a,b)\n",
    "    \n",
    "    # List des matches entre(player1_id,player2_id)\n",
    "    players_matches = list(data_stats[x.values].index)\n",
    "    \n",
    "    # Si on a plus que n matches, on prend les n derniers\n",
    "    if (n <= len(players_matches)):\n",
    "        matches = data_stats.loc[players_matches]\n",
    "        matches = matches.sort_values('MT',ascending=False)\n",
    "        matches = matches[matches.MT < dt_curr]\n",
    "        return matches.head(n)\n",
    "    \n",
    "    # Sinon on prend tous les matches ou retourne NONE\n",
    "    elif (0<len(players_matches) and len(players_matches)<n):\n",
    "        matches = data_stats.loc[players_matches]\n",
    "        matches = matches.sort_values('MT',ascending=False)\n",
    "        matches = matches[matches.MT <= dt_curr]\n",
    "        return matches.head(len(players_matches))\n",
    "    else:\n",
    "        return None"
   ]
  },
  {
   "cell_type": "code",
   "execution_count": 78,
   "metadata": {},
   "outputs": [],
   "source": [
    "# Récupere les résultats\n",
    "def get_info():\n",
    "    k = 0\n",
    "    for i in list(data_train.index):\n",
    "        print(\"chargement : {:.2f} %\".format(k / len(list(data_train.index)) * 100))\n",
    "        k +=1\n",
    "        \n",
    "        info_i = last_n_match(data_train.ID1_G.loc[i],data_train.ID2_G.loc[i],2,data_train.DATE_G.loc[i])\n",
    "        \n",
    "        data_train.loc[i,'PL1_1'] = 1\n",
    "        # le nombre de matche joueur 1 a gangné\n",
    "        oc1 = [0]*2\n",
    "        \n",
    "        # le nombre de matche joueur 2 a gangné\n",
    "        oc2 = [0]*2\n",
    "        \n",
    "        # Compléter la table des startistiques\n",
    "        if info_i is not None:\n",
    "            k1 = 0\n",
    "            k2 = 0\n",
    "            for j in list(info_i.ID1.index):\n",
    "                if(info_i.ID1.loc[j] == data_train.ID1_G.loc[i]):\n",
    "                    oc1[k1] = 1\n",
    "                    k1+=1\n",
    "                else:\n",
    "                    oc2[k2] = 1\n",
    "                    k2 +=1\n",
    "            \n",
    "            vec = pd.concat([pd.Series(oc1),pd.Series(oc2)],axis=0,ignore_index=True)\n",
    "            data_train.loc[i,'PL1_2'] = vec[0]\n",
    "            data_train.loc[i,'PL1_3'] = vec[1]\n",
    "            data_train.loc[i,'PL2_2'] = vec[2]\n",
    "            data_train.loc[i,'PL2_3'] = vec[3]"
   ]
  },
  {
   "cell_type": "code",
   "execution_count": 79,
   "metadata": {},
   "outputs": [],
   "source": [
    "# Récuperer le meilleur classement du jour avant la date du matche\n",
    "def get_rate(player_id,dt_curr):   \n",
    "    player = data_playerate[data_playerate.ID_P_R == player_id]\n",
    "    if (len(player[player.DATE_R <= dt_curr]) != 0):\n",
    "        return max(player.POINT_R)\n",
    "    elif (len(player)!=0):\n",
    "        return max(player.POINT_R)\n",
    "    else:\n",
    "        return 0"
   ]
  },
  {
   "cell_type": "code",
   "execution_count": 80,
   "metadata": {},
   "outputs": [],
   "source": [
    "# Récuper les différence entre les points gangés dans les n dernier matche entre joueur1 et jouer2\n",
    "\n",
    "## W1S_j : Nombre de points gagnés sur premier service\n",
    "## W2S_j : Nombre de points gagnés sur second service\n",
    "## BP    : Nombre de balles de break gagnées\n",
    "\n",
    "def get_point():\n",
    "    k = 0\n",
    "    for i in list(data_train.index):\n",
    "        print(\"chargement : {:.2f} %\".format(k / len(data_train.ID1_G) * 100))\n",
    "        k +=1\n",
    "        info_i = last_n_match(data_train.ID1_G.loc[i],data_train.ID2_G.loc[i],3,data_train.DATE_G.loc[i])\n",
    "        \n",
    "        if info_i is not None:\n",
    "            k1 = 0\n",
    "            k2 = 0\n",
    "            for j in list(info_i.ID1.index):\n",
    "                if(info_i.ID1.loc[j] == data_train.ID1_G.loc[i]):\n",
    "                    k1 = info_i.W1SR_1.loc[j] + info_i.W2SR_1.loc[j] + info_i.BPR_1.loc[j]\n",
    "                    k2 = info_i.W1SR_2.loc[j] + info_i.W2SR_2.loc[j] + info_i.BPR_2.loc[j]\n",
    "                else:\n",
    "                    k2 = info_i.W1SR_1.loc[j] + info_i.W2SR_1.loc[j] + info_i.BPR_1.loc[j]\n",
    "                    k1 = info_i.W1SR_2.loc[j] + info_i.W2SR_2.loc[j] + info_i.BPR_2.loc[j]\n",
    "            data_train.DIFF_pts.loc[i] = k1 - k2"
   ]
  },
  {
   "cell_type": "code",
   "execution_count": 81,
   "metadata": {},
   "outputs": [],
   "source": [
    "def ajt(df):\n",
    "    # Resultats des 3 deriniers matches\n",
    "    df['PL1_1'] = [0]*df.ID1_G\n",
    "    df['PL1_2'] = [0]*df.ID1_G\n",
    "    df['PL1_3'] = [0]*df.ID1_G\n",
    "    df['PL2_1'] = [0]*df.ID1_G\n",
    "    df['PL2_2'] = [0]*df.ID1_G\n",
    "    df['PL2_3'] = [0]*df.ID1_G\n",
    "\n",
    "\n",
    "\n",
    "    # Difference entre les points gagnés par les deux joueurs dans les 3 derniers matches\n",
    "    df['DIFF_pts'] = [0]*df.shape[0]"
   ]
  },
  {
   "cell_type": "code",
   "execution_count": null,
   "metadata": {},
   "outputs": [],
   "source": [
    "# Add columns and get values from different tables\n",
    "ajt(data_train)\n",
    "get_info()\n",
    "get_point()"
   ]
  },
  {
   "cell_type": "code",
   "execution_count": null,
   "metadata": {},
   "outputs": [],
   "source": [
    "data_train_bck = data_train"
   ]
  },
  {
   "cell_type": "code",
   "execution_count": null,
   "metadata": {},
   "outputs": [],
   "source": [
    "data_train.to_csv('train_data_formated.csv')"
   ]
  },
  {
   "cell_type": "code",
   "execution_count": 6,
   "metadata": {},
   "outputs": [],
   "source": [
    "data_train = pd.read_csv('train_data_formated.csv',index_col=0)"
   ]
  },
  {
   "cell_type": "code",
   "execution_count": 7,
   "metadata": {},
   "outputs": [
    {
     "data": {
      "text/html": [
       "<div>\n",
       "<style scoped>\n",
       "    .dataframe tbody tr th:only-of-type {\n",
       "        vertical-align: middle;\n",
       "    }\n",
       "\n",
       "    .dataframe tbody tr th {\n",
       "        vertical-align: top;\n",
       "    }\n",
       "\n",
       "    .dataframe thead th {\n",
       "        text-align: right;\n",
       "    }\n",
       "</style>\n",
       "<table border=\"1\" class=\"dataframe\">\n",
       "  <thead>\n",
       "    <tr style=\"text-align: right;\">\n",
       "      <th></th>\n",
       "      <th>ID1_G</th>\n",
       "      <th>ID2_G</th>\n",
       "      <th>ID_T_G</th>\n",
       "      <th>ID_R_G</th>\n",
       "      <th>RESULT_G</th>\n",
       "      <th>DATE_G</th>\n",
       "      <th>PL1_1</th>\n",
       "      <th>PL1_2</th>\n",
       "      <th>PL1_3</th>\n",
       "      <th>PL2_1</th>\n",
       "      <th>...</th>\n",
       "      <th>R8</th>\n",
       "      <th>R9</th>\n",
       "      <th>R10</th>\n",
       "      <th>R11</th>\n",
       "      <th>R12</th>\n",
       "      <th>R13</th>\n",
       "      <th>R14</th>\n",
       "      <th>R15</th>\n",
       "      <th>R16</th>\n",
       "      <th>R17</th>\n",
       "    </tr>\n",
       "  </thead>\n",
       "  <tbody>\n",
       "    <tr>\n",
       "      <th>0</th>\n",
       "      <td>17613</td>\n",
       "      <td>18854</td>\n",
       "      <td>8887</td>\n",
       "      <td>4</td>\n",
       "      <td>7-6(8) 3-6 10-7</td>\n",
       "      <td>2012-01-31</td>\n",
       "      <td>1</td>\n",
       "      <td>0</td>\n",
       "      <td>0</td>\n",
       "      <td>0</td>\n",
       "      <td>...</td>\n",
       "      <td>0</td>\n",
       "      <td>0</td>\n",
       "      <td>0</td>\n",
       "      <td>0</td>\n",
       "      <td>0</td>\n",
       "      <td>0</td>\n",
       "      <td>0</td>\n",
       "      <td>0</td>\n",
       "      <td>0</td>\n",
       "      <td>0</td>\n",
       "    </tr>\n",
       "    <tr>\n",
       "      <th>1</th>\n",
       "      <td>25192</td>\n",
       "      <td>25191</td>\n",
       "      <td>8888</td>\n",
       "      <td>4</td>\n",
       "      <td>6-3 6-2</td>\n",
       "      <td>2012-01-31</td>\n",
       "      <td>1</td>\n",
       "      <td>0</td>\n",
       "      <td>0</td>\n",
       "      <td>0</td>\n",
       "      <td>...</td>\n",
       "      <td>0</td>\n",
       "      <td>0</td>\n",
       "      <td>0</td>\n",
       "      <td>0</td>\n",
       "      <td>0</td>\n",
       "      <td>0</td>\n",
       "      <td>0</td>\n",
       "      <td>0</td>\n",
       "      <td>0</td>\n",
       "      <td>0</td>\n",
       "    </tr>\n",
       "    <tr>\n",
       "      <th>2</th>\n",
       "      <td>918</td>\n",
       "      <td>10828</td>\n",
       "      <td>8957</td>\n",
       "      <td>4</td>\n",
       "      <td>6-1 6-2</td>\n",
       "      <td>2012-01-31</td>\n",
       "      <td>1</td>\n",
       "      <td>1</td>\n",
       "      <td>1</td>\n",
       "      <td>0</td>\n",
       "      <td>...</td>\n",
       "      <td>0</td>\n",
       "      <td>0</td>\n",
       "      <td>0</td>\n",
       "      <td>0</td>\n",
       "      <td>0</td>\n",
       "      <td>0</td>\n",
       "      <td>0</td>\n",
       "      <td>0</td>\n",
       "      <td>0</td>\n",
       "      <td>0</td>\n",
       "    </tr>\n",
       "    <tr>\n",
       "      <th>3</th>\n",
       "      <td>3316</td>\n",
       "      <td>2379</td>\n",
       "      <td>8957</td>\n",
       "      <td>4</td>\n",
       "      <td>6-4 7-6(5)</td>\n",
       "      <td>2012-01-31</td>\n",
       "      <td>1</td>\n",
       "      <td>1</td>\n",
       "      <td>0</td>\n",
       "      <td>0</td>\n",
       "      <td>...</td>\n",
       "      <td>0</td>\n",
       "      <td>0</td>\n",
       "      <td>0</td>\n",
       "      <td>0</td>\n",
       "      <td>0</td>\n",
       "      <td>0</td>\n",
       "      <td>0</td>\n",
       "      <td>0</td>\n",
       "      <td>0</td>\n",
       "      <td>0</td>\n",
       "    </tr>\n",
       "    <tr>\n",
       "      <th>4</th>\n",
       "      <td>7869</td>\n",
       "      <td>6277</td>\n",
       "      <td>8957</td>\n",
       "      <td>4</td>\n",
       "      <td>6-4 6-4</td>\n",
       "      <td>2012-01-31</td>\n",
       "      <td>1</td>\n",
       "      <td>1</td>\n",
       "      <td>0</td>\n",
       "      <td>0</td>\n",
       "      <td>...</td>\n",
       "      <td>0</td>\n",
       "      <td>0</td>\n",
       "      <td>0</td>\n",
       "      <td>0</td>\n",
       "      <td>0</td>\n",
       "      <td>0</td>\n",
       "      <td>0</td>\n",
       "      <td>0</td>\n",
       "      <td>0</td>\n",
       "      <td>0</td>\n",
       "    </tr>\n",
       "  </tbody>\n",
       "</table>\n",
       "<p>5 rows × 31 columns</p>\n",
       "</div>"
      ],
      "text/plain": [
       "   ID1_G  ID2_G  ID_T_G  ID_R_G         RESULT_G      DATE_G  PL1_1  PL1_2  \\\n",
       "0  17613  18854    8887       4  7-6(8) 3-6 10-7  2012-01-31      1      0   \n",
       "1  25192  25191    8888       4          6-3 6-2  2012-01-31      1      0   \n",
       "2    918  10828    8957       4          6-1 6-2  2012-01-31      1      1   \n",
       "3   3316   2379    8957       4       6-4 7-6(5)  2012-01-31      1      1   \n",
       "4   7869   6277    8957       4          6-4 6-4  2012-01-31      1      1   \n",
       "\n",
       "   PL1_3  PL2_1  ...  R8  R9  R10  R11  R12  R13  R14  R15  R16  R17  \n",
       "0      0      0  ...   0   0    0    0    0    0    0    0    0    0  \n",
       "1      0      0  ...   0   0    0    0    0    0    0    0    0    0  \n",
       "2      1      0  ...   0   0    0    0    0    0    0    0    0    0  \n",
       "3      0      0  ...   0   0    0    0    0    0    0    0    0    0  \n",
       "4      0      0  ...   0   0    0    0    0    0    0    0    0    0  \n",
       "\n",
       "[5 rows x 31 columns]"
      ]
     },
     "execution_count": 7,
     "metadata": {},
     "output_type": "execute_result"
    }
   ],
   "source": [
    "data_train.head(5)"
   ]
  },
  {
   "cell_type": "code",
   "execution_count": 21,
   "metadata": {},
   "outputs": [],
   "source": [
    "data_train['label'] = [1] * data_train.shape[0]\n",
    "from random import randint\n",
    "rn = []\n",
    "rnn = [randint(0,data_train.shape[0]-1) for i in range(int(data_train.shape[0]/3))]\n",
    "for i in rnn:\n",
    "    rn.append(data_train.index[i])\n",
    "    \n",
    "# Permutation des données\n",
    "for i in rn:\n",
    "    data_train.loc[i,'PL1_1'],data_train.loc[i,'PL2_1'] = data_train.loc[i,'PL2_1'],data_train.loc[i,'PL1_1']\n",
    "    data_train.loc[i,'PL1_2'],data_train.loc[i,'PL2_2'] = data_train.loc[i,'PL2_2'],data_train.loc[i,'PL1_2']\n",
    "    data_train.loc[i,'PL1_3'],data_train.loc[i,'PL2_2'] = data_train.loc[i,'PL2_3'],data_train.loc[i,'PL1_3']\n",
    "    \n",
    "    data_train.loc[i,'DIFF_pts'] = -1*data_train.loc[i,'DIFF_pts']     \n",
    "    \n",
    "    # joueur 2 gangant => label = 0\n",
    "    data_train.loc[i,'label'] = 0"
   ]
  },
  {
   "cell_type": "code",
   "execution_count": 22,
   "metadata": {},
   "outputs": [],
   "source": [
    "data_train.to_csv('train_data_formated_1.csv')"
   ]
  },
  {
   "cell_type": "code",
   "execution_count": 17,
   "metadata": {},
   "outputs": [],
   "source": [
    "data_train = pd.read_csv('train_data_formated_1.csv',index_col=0)"
   ]
  },
  {
   "cell_type": "markdown",
   "metadata": {},
   "source": [
    "# Models"
   ]
  },
  {
   "cell_type": "code",
   "execution_count": 4,
   "metadata": {},
   "outputs": [],
   "source": [
    "from sklearn.model_selection import GridSearchCV\n",
    "from sklearn.metrics import make_scorer"
   ]
  },
  {
   "cell_type": "code",
   "execution_count": 5,
   "metadata": {},
   "outputs": [],
   "source": [
    "data_train.drop('ID1_G',axis=1, inplace=True)\n",
    "data_train.drop('ID2_G',axis=1, inplace=True)\n",
    "data_train.drop('ID_T_G',axis=1, inplace=True)\n",
    "data_train.drop('ID_R_G',axis=1, inplace=True)\n",
    "data_train.drop('DATE_G',axis=1, inplace=True)\n",
    "data_train.drop('RESULT_G',axis=1, inplace=True)\n",
    "data_train.drop(['R1', 'R2', 'R3', 'R4', 'R5', 'R6', 'R7', 'R8', 'R9', 'R10', 'R11', 'R12',\n",
    "       'R13', 'R14', 'R15', 'R16', 'R17'],axis = 1, inplace =True)"
   ]
  },
  {
   "cell_type": "code",
   "execution_count": 18,
   "metadata": {},
   "outputs": [],
   "source": [
    "X = data_train.drop(['label'],1)\n",
    "X = X.fillna(0)\n",
    "Y = data_train.label"
   ]
  },
  {
   "cell_type": "code",
   "execution_count": 19,
   "metadata": {},
   "outputs": [],
   "source": [
    "X_train, X_test, y_train, y_test = train_test_split(X, Y, \n",
    "                                                    test_size = 0.3,\n",
    "                                                    random_state = 2,\n",
    "                                                    stratify = Y)"
   ]
  },
  {
   "cell_type": "markdown",
   "metadata": {},
   "source": [
    "<br>"
   ]
  },
  {
   "cell_type": "markdown",
   "metadata": {},
   "source": [
    "## Logistic Regression"
   ]
  },
  {
   "cell_type": "markdown",
   "metadata": {},
   "source": [
    "### Presentation"
   ]
  },
  {
   "cell_type": "markdown",
   "metadata": {},
   "source": [
    "Logistic regression is a classification machine learning model, make use of the simlicty of linear model, LR introduces the sigmoid function to control the output so that the result will take values in {0,1}. Note that for multiple label LR problem multiple binary LR models are learnt as it is the case for sk-learn library. \n",
    " <img src=\"LogReg_1.png\" alt=\"Girl in a jacket\" width=\"35%\" > \n",
    "<br>"
   ]
  },
  {
   "cell_type": "markdown",
   "metadata": {},
   "source": [
    "### Parameters to tune"
   ]
  },
  {
   "cell_type": "markdown",
   "metadata": {},
   "source": [
    "Source : https://scikit-learn.org/stable/modules/generated/sklearn.linear_model.LogisticRegression.html\n",
    "<br>\n",
    "<br><strong>penalty </strong> : 'l1','l2’, ‘elasticnet’ or ‘none’, optional (default=’l2’)\n",
    "<br><strong>dual</strong> : bool, optional (default=False)\n",
    "<br><strong>tol</strong> : float, optional (default=1e-4)\n",
    "<br><strong>C</strong> : float, optional (default=1.0)\n",
    "<br><strong>fit_intercept</strong> : bool, optional (default=True)\n",
    "<br><strong>max_iter</strong> : int, optional (default=100)\n",
    "<br><strong>multi_class</strong> : str, {‘ovr’, ‘multinomial’, ‘auto’}, optional (default=’ovr’)"
   ]
  },
  {
   "cell_type": "markdown",
   "metadata": {},
   "source": [
    "#### Model training, tuning, and testing"
   ]
  },
  {
   "cell_type": "code",
   "execution_count": 8,
   "metadata": {},
   "outputs": [],
   "source": [
    "from sklearn.linear_model import LogisticRegression"
   ]
  },
  {
   "cell_type": "code",
   "execution_count": 74,
   "metadata": {},
   "outputs": [
    {
     "name": "stdout",
     "output_type": "stream",
     "text": [
      "LogisticRegression(C=10, class_weight=None, dual=False, fit_intercept=True,\n",
      "          intercept_scaling=1, max_iter=100, multi_class='warn',\n",
      "          n_jobs=None, penalty='l2', random_state=None, solver='liblinear',\n",
      "          tol=0.001, verbose=0, warm_start=False)\n",
      "0.9804360573591343\n",
      "0.979402901612352\n"
     ]
    }
   ],
   "source": [
    "parameters = { 'C' : [0.01,0.1,1,10],\n",
    "               'tol' : [0.001,0.01,0.1],\n",
    "              'solver' : ['lbfgs', 'liblinear']\n",
    "             }  \n",
    "\n",
    "clf_x = LogisticRegression()\n",
    "\n",
    "f1_scorer = make_scorer(f1_score,pos_label=1)\n",
    "\n",
    "grid_obj = GridSearchCV(clf_x,\n",
    "                        scoring=f1_scorer,\n",
    "                        param_grid=parameters,\n",
    "                        cv=5)\n",
    "\n",
    "grid_obj = grid_obj.fit(X_train,y_train)\n",
    "\n",
    "clf_x = grid_obj.best_estimator_\n",
    "print (clf_x)\n",
    "\n",
    "\n",
    "y = clf_x.predict(X_train)\n",
    "print(f1_score(y_train, y, pos_label=1))\n",
    "\n",
    "\n",
    "y = clf_x.predict(X_test)\n",
    "print(f1_score(y_test, y, pos_label=1))"
   ]
  },
  {
   "cell_type": "markdown",
   "metadata": {},
   "source": [
    "We got a high f1-score with this model, which is a little bit weird to get this value on real data. Let's analyse the coefficient we get."
   ]
  },
  {
   "cell_type": "markdown",
   "metadata": {},
   "source": [
    "#### Analyse"
   ]
  },
  {
   "cell_type": "code",
   "execution_count": 75,
   "metadata": {},
   "outputs": [
    {
     "data": {
      "text/plain": [
       "array([[ 4.46144315,  4.63390253,  0.96598404, -8.17729698,  3.53709297,\n",
       "        -0.6893501 , -1.76888051]])"
      ]
     },
     "execution_count": 75,
     "metadata": {},
     "output_type": "execute_result"
    }
   ],
   "source": [
    "clf_x.coef_"
   ]
  },
  {
   "cell_type": "markdown",
   "metadata": {},
   "source": [
    "As it is shown the label depends on the first features on the table, such information can not be trustful. I should think of another way to present my data"
   ]
  },
  {
   "cell_type": "code",
   "execution_count": 20,
   "metadata": {},
   "outputs": [],
   "source": [
    "#Sum the values of feature PLi_j in new feature P_i\n",
    "data_train['p_1'] = data_train.apply(lambda x:(x.PL1_2+x.PL1_1+x.PL1_3)/3 ,axis=1)\n",
    "data_train['p_2'] = data_train.apply(lambda x:(x['PL2_1']+x['PL2_2']+x['PL2_3'])/3,axis = 1)"
   ]
  },
  {
   "cell_type": "code",
   "execution_count": 21,
   "metadata": {},
   "outputs": [],
   "source": [
    "corr = data_train[['p_1','p_2','DIFF_pts','label']].corr()"
   ]
  },
  {
   "cell_type": "code",
   "execution_count": 22,
   "metadata": {
    "scrolled": true
   },
   "outputs": [
    {
     "data": {
      "text/html": [
       "<div>\n",
       "<style scoped>\n",
       "    .dataframe tbody tr th:only-of-type {\n",
       "        vertical-align: middle;\n",
       "    }\n",
       "\n",
       "    .dataframe tbody tr th {\n",
       "        vertical-align: top;\n",
       "    }\n",
       "\n",
       "    .dataframe thead th {\n",
       "        text-align: right;\n",
       "    }\n",
       "</style>\n",
       "<table border=\"1\" class=\"dataframe\">\n",
       "  <thead>\n",
       "    <tr style=\"text-align: right;\">\n",
       "      <th></th>\n",
       "      <th>p_1</th>\n",
       "      <th>p_2</th>\n",
       "      <th>DIFF_pts</th>\n",
       "      <th>label</th>\n",
       "    </tr>\n",
       "  </thead>\n",
       "  <tbody>\n",
       "    <tr>\n",
       "      <th>p_1</th>\n",
       "      <td>1.000000</td>\n",
       "      <td>-0.683144</td>\n",
       "      <td>0.493002</td>\n",
       "      <td>0.846464</td>\n",
       "    </tr>\n",
       "    <tr>\n",
       "      <th>p_2</th>\n",
       "      <td>-0.683144</td>\n",
       "      <td>1.000000</td>\n",
       "      <td>-0.456532</td>\n",
       "      <td>-0.668100</td>\n",
       "    </tr>\n",
       "    <tr>\n",
       "      <th>DIFF_pts</th>\n",
       "      <td>0.493002</td>\n",
       "      <td>-0.456532</td>\n",
       "      <td>1.000000</td>\n",
       "      <td>0.447875</td>\n",
       "    </tr>\n",
       "    <tr>\n",
       "      <th>label</th>\n",
       "      <td>0.846464</td>\n",
       "      <td>-0.668100</td>\n",
       "      <td>0.447875</td>\n",
       "      <td>1.000000</td>\n",
       "    </tr>\n",
       "  </tbody>\n",
       "</table>\n",
       "</div>"
      ],
      "text/plain": [
       "               p_1       p_2  DIFF_pts     label\n",
       "p_1       1.000000 -0.683144  0.493002  0.846464\n",
       "p_2      -0.683144  1.000000 -0.456532 -0.668100\n",
       "DIFF_pts  0.493002 -0.456532  1.000000  0.447875\n",
       "label     0.846464 -0.668100  0.447875  1.000000"
      ]
     },
     "execution_count": 22,
     "metadata": {},
     "output_type": "execute_result"
    }
   ],
   "source": [
    "corr"
   ]
  },
  {
   "cell_type": "markdown",
   "metadata": {},
   "source": [
    "The correlation matrix support the privious note. The value of the label depends on the results of the three last matches, must think of the size of this window.\n",
    "<br>\n",
    "For next models I will focus on these two features, and I will do a better feature selection after"
   ]
  },
  {
   "cell_type": "markdown",
   "metadata": {},
   "source": [
    "#### New features p_1, p_2"
   ]
  },
  {
   "cell_type": "code",
   "execution_count": 27,
   "metadata": {},
   "outputs": [],
   "source": [
    "X = data_train[['p_1','p_2']]\n",
    "X = X.fillna(0)\n",
    "Y = data_train.label"
   ]
  },
  {
   "cell_type": "code",
   "execution_count": 28,
   "metadata": {},
   "outputs": [],
   "source": [
    "X_train, X_test, y_train, y_test = train_test_split(X, Y, \n",
    "                                                    test_size = 0.3,\n",
    "                                                    random_state = 2,\n",
    "                                                    stratify = Y)"
   ]
  },
  {
   "cell_type": "code",
   "execution_count": 30,
   "metadata": {},
   "outputs": [
    {
     "name": "stdout",
     "output_type": "stream",
     "text": [
      "LogisticRegression(C=0.01, class_weight=None, dual=False, fit_intercept=True,\n",
      "          intercept_scaling=1, max_iter=100, multi_class='warn',\n",
      "          n_jobs=None, penalty='l2', random_state=None, solver='lbfgs',\n",
      "          tol=0.001, verbose=0, warm_start=False)\n",
      "0.9627806091897431\n",
      "0.9629951301219022\n"
     ]
    }
   ],
   "source": [
    "parameters = { 'C' : [0.01,0.1,1,10],\n",
    "               'tol' : [0.001,0.01,0.1],\n",
    "              'solver' : ['lbfgs', 'liblinear']\n",
    "             }  \n",
    "\n",
    "clf_x = LogisticRegression()\n",
    "\n",
    "f1_scorer = make_scorer(f1_score,pos_label=1)\n",
    "\n",
    "grid_obj = GridSearchCV(clf_x,\n",
    "                        scoring=f1_scorer,\n",
    "                        param_grid=parameters,\n",
    "                        cv=5)\n",
    "\n",
    "grid_obj = grid_obj.fit(X_train,y_train)\n",
    "\n",
    "clf_x = grid_obj.best_estimator_\n",
    "print (clf_x)\n",
    "\n",
    "\n",
    "y = clf_x.predict(X_train)\n",
    "print(f1_score(y_train, y, pos_label=1))\n",
    "\n",
    "\n",
    "y = clf_x.predict(X_test)\n",
    "print(f1_score(y_test, y, pos_label=1))"
   ]
  },
  {
   "cell_type": "markdown",
   "metadata": {},
   "source": [
    "<br>"
   ]
  },
  {
   "cell_type": "markdown",
   "metadata": {},
   "source": [
    "<br>"
   ]
  },
  {
   "cell_type": "markdown",
   "metadata": {},
   "source": [
    "## XgBoost"
   ]
  },
  {
   "cell_type": "markdown",
   "metadata": {},
   "source": [
    "### Presentation"
   ]
  },
  {
   "cell_type": "markdown",
   "metadata": {},
   "source": [
    "XgBoost is one the esemble Machine learning models, there is problems in machine learning where learning a single model is not suficent, thus combining multiple ML models is not a bad idea.\n",
    "Briefly esemble methodes consist on combining some machine learning weak models following some a specific architecture (bagging, boosting) to come up with a better model at the end.\n",
    "XgBoost is a boosting model, one of the most used models in Kaggle competition for its powerful capacity to learn and also its scalability to run on multiple computers (team members) also the parallel computing possibility that boosting models offer.\n",
    "During the Boosting learning multiple trees are built sequentially such that a new tree reduce error made by the previous one.\n",
    "let M0 be the first model, it has an error (y - M0(x)), the next model will  learn on (y - M0(x)) and come up with the model M1, and this process goes on ...\n",
    "\n",
    " <img src=\"e7MIgXk.png\" alt=\"Girl in a jacket\" width=\"25%\" > \n",
    "<br>\n",
    "<br>source : https://www.analyticsvidhya.com/blog/2018/09/an-end-to-end-guide-to-understand-the-math-behind-xgboost/\n",
    "<br><strong>Regularization</strong>: XGBoost has an option to penalize complex models through both L1 and L2 regularization. Regularization helps in preventing overfitting\n",
    "<br><strong>Handling sparse data</strong>: Missing values or data processing steps like one-hot encoding make data sparse. XGBoost incorporates a sparsity-aware split finding algorithm to handle different types of sparsity patterns in the data\n",
    "<br><strong>Weighted quantile sketch</strong>: Most existing tree based algorithms can find the split points when the data points are of equal weights (using quantile sketch algorithm). However, they are not equipped to handle weighted data. XGBoost has a distributed weighted quantile sketch algorithm to effectively handle weighted data\n",
    "<br><strong>Block structure for parallel learning</strong>: For faster computing, XGBoost can make use of multiple cores on the CPU. This is possible because of a block structure in its system design. Data is sorted and stored in in-memory units called blocks. Unlike other algorithms, this enables the data layout to be reused by subsequent iterations, instead of computing it again. This feature also serves useful for steps like split finding and column sub-sampling\n",
    "<br><strong>Cache awareness</strong>: In XGBoost, non-continuous memory access is required to get the gradient statistics by row index. Hence, XGBoost has been designed to make optimal use of hardware. This is done by allocating internal buffers in each thread, where the gradient statistics can be stored\n",
    "<br><strong>Out-of-core computing</strong>: This feature optimizes the available disk space and maximizes its usage when handling huge datasets that do not fit into memory\n",
    "\n"
   ]
  },
  {
   "cell_type": "markdown",
   "metadata": {},
   "source": [
    "### Parameters to tune"
   ]
  },
  {
   "cell_type": "markdown",
   "metadata": {},
   "source": [
    "Source : https://xgboost.readthedocs.io/en/latest/python/python_api.html#module-xgboost.sklearn\n",
    "<br>For the XgBoost model there is lot of parameters to tune and it takes much time to train, thus I will choose some of these parametres that I see are important.\n",
    "<br>\n",
    "<br>\n",
    "<strong>max_depth (int) </strong>– Maximum tree depth for base learners.\n",
    "<br>\n",
    "<strong>learning_rate (float) </strong>– Boosting learning rate (xgb’s “eta”)\n",
    "<br>\n",
    "<strong>n_estimators (int) </strong>– Number of trees to fit.\n",
    "<br>\n",
    "<strong>booster (string) </strong>– Specify which booster to use: gbtree, gblinear or dart.\n",
    "<br>\n",
    "<strong>n_jobs (int) </strong>– Number of parallel threads used to run xgboost. (replaces nthread)\n",
    "<br>\n",
    "<strong>gamma (float) </strong>– Minimum loss reduction required to make a further partition on a leaf node of the tree.\n",
    "<br>\n",
    "<strong>max_delta_step (int) </strong>– Maximum delta step we allow each tree’s weight estimation to be.\n",
    "<br>\n",
    "<strong>subsample (float) </strong>– Subsample ratio of the training instance.\n",
    "<br>\n",
    "<strong>colsample_bytree (float) </strong>– Subsample ratio of columns when constructing each tree.\n",
    "<br>\n",
    "<strong>reg_alpha (float (xgb's alpha)) </strong>– L1 regularization term on weights\n",
    "<br>\n",
    "<strong>reg_lambda (float (xgb's lambda)) </strong>– L2 regularization term on weights\n",
    "<br>\n",
    "<strong>scale_pos_weight (float) </strong>– Balancing of positive and negative weights."
   ]
  },
  {
   "cell_type": "markdown",
   "metadata": {},
   "source": [
    "#### Model training, tuning, and testing"
   ]
  },
  {
   "cell_type": "code",
   "execution_count": 32,
   "metadata": {},
   "outputs": [
    {
     "name": "stdout",
     "output_type": "stream",
     "text": [
      "XGBClassifier(base_score=0.5, booster='gbtree', colsample_bylevel=1,\n",
      "       colsample_bynode=1, colsample_bytree=1, gamma=0, learning_rate=0.1,\n",
      "       max_delta_step=0, max_depth=3, min_child_weight=1, missing=None,\n",
      "       n_estimators=100, n_jobs=1, nthread=None,\n",
      "       objective='binary:logistic', random_state=0, reg_alpha=0,\n",
      "       reg_lambda=1, scale_pos_weight=1, seed=None, silent=None,\n",
      "       subsample=1, verbosity=1)\n",
      "0.9627806091897431\n",
      "0.9629951301219022\n"
     ]
    }
   ],
   "source": [
    "from sklearn.model_selection import GridSearchCV\n",
    "from sklearn.metrics import make_scorer\n",
    "\n",
    "parameters = { 'learning_rate' : [0.001,0.0001],\n",
    "               'n_estimators' : [100,120,140],\n",
    "               'max_depth': [4,6],\n",
    "               'min_child_weight': [3],\n",
    "               'gamma':[0.4,0.8],\n",
    "               'subsample' : [0.2,0.5,0.8],\n",
    "               'colsample_bytree' : [0.5,0.8],\n",
    "               'scale_pos_weight' : [1],\n",
    "               'reg_alpha':[1e-5]\n",
    "             }  \n",
    "\n",
    "clf = xgb.XGBClassifier()\n",
    "\n",
    "f1_scorer = make_scorer(f1_score,pos_label=1)\n",
    "\n",
    "grid_obj = GridSearchCV(clf,\n",
    "                        scoring=f1_scorer,\n",
    "                        param_grid=parameters,\n",
    "                        cv=5)\n",
    "\n",
    "grid_obj = grid_obj.fit(X_train,y_train)\n",
    "\n",
    "clf_xg = grid_obj.best_estimator_\n",
    "print (clf)\n",
    "\n",
    "\n",
    "y = clf_xg.predict(X_train)\n",
    "print(f1_score(y_train, y, pos_label=1))\n",
    "\n",
    "\n",
    "y = clf_xg.predict(X_test)\n",
    "print(f1_score(y_test, y, pos_label=1))"
   ]
  },
  {
   "cell_type": "markdown",
   "metadata": {},
   "source": [
    "<br>"
   ]
  },
  {
   "cell_type": "markdown",
   "metadata": {},
   "source": [
    "Even with the Xgboost model we got similar results as LR, it is clear there will be no difference as the number of features is not relevant so we can notice the difference between the two models "
   ]
  },
  {
   "cell_type": "code",
   "execution_count": null,
   "metadata": {},
   "outputs": [],
   "source": []
  },
  {
   "cell_type": "code",
   "execution_count": null,
   "metadata": {},
   "outputs": [],
   "source": []
  }
 ],
 "metadata": {
  "kernelspec": {
   "display_name": "Python 3",
   "language": "python",
   "name": "python3"
  },
  "language_info": {
   "codemirror_mode": {
    "name": "ipython",
    "version": 3
   },
   "file_extension": ".py",
   "mimetype": "text/x-python",
   "name": "python",
   "nbconvert_exporter": "python",
   "pygments_lexer": "ipython3",
   "version": "3.7.3"
  }
 },
 "nbformat": 4,
 "nbformat_minor": 2
}
