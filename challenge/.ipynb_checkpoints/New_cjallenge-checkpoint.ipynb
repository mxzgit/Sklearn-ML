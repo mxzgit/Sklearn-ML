{
 "cells": [
  {
   "cell_type": "markdown",
   "metadata": {},
   "source": [
    "# Environement set-up "
   ]
  },
  {
   "cell_type": "code",
   "execution_count": 5,
   "metadata": {},
   "outputs": [],
   "source": [
    "# Import libraries\n",
    "import numpy as np\n",
    "import sklearn\n",
    "import pandas as pd\n",
    "from pandas.plotting import scatter_matrix\n",
    "import xgboost as xgb\n",
    "from IPython.display import display\n",
    "import matplotlib.pyplot as plt\n",
    "from sklearn.preprocessing import scale\n",
    "from sklearn.model_selection import train_test_split\n",
    "from sklearn.metrics import f1_score\n",
    "from sklearn.metrics import confusion_matrix\n",
    "from sklearn.linear_model.stochastic_gradient import SGDClassifier\n",
    "%matplotlib inline"
   ]
  },
  {
   "cell_type": "code",
   "execution_count": 6,
   "metadata": {},
   "outputs": [],
   "source": [
    "# Import data files\n",
    "data_train     = pd.read_csv('train.csv',index_col=0)\n",
    "data_stats     = pd.read_csv('stats.csv',index_col=0)\n",
    "data_test      = pd.read_csv('test.csv')\n",
    "data_tour      = pd.read_csv('tour.csv')\n",
    "data_players   = pd.read_csv('players.csv')\n",
    "data_playerate = pd.read_csv('player_rates.csv',index_col=0)"
   ]
  },
  {
   "cell_type": "code",
   "execution_count": 8,
   "metadata": {},
   "outputs": [],
   "source": [
    "# Import test file\n",
    "data_test      = pd.read_csv('test.csv')"
   ]
  },
  {
   "cell_type": "markdown",
   "metadata": {},
   "source": [
    "# Data discovery "
   ]
  },
  {
   "cell_type": "code",
   "execution_count": 10,
   "metadata": {},
   "outputs": [
    {
     "data": {
      "text/html": [
       "<div>\n",
       "<style scoped>\n",
       "    .dataframe tbody tr th:only-of-type {\n",
       "        vertical-align: middle;\n",
       "    }\n",
       "\n",
       "    .dataframe tbody tr th {\n",
       "        vertical-align: top;\n",
       "    }\n",
       "\n",
       "    .dataframe thead th {\n",
       "        text-align: right;\n",
       "    }\n",
       "</style>\n",
       "<table border=\"1\" class=\"dataframe\">\n",
       "  <thead>\n",
       "    <tr style=\"text-align: right;\">\n",
       "      <th></th>\n",
       "      <th>ID1_G</th>\n",
       "      <th>ID2_G</th>\n",
       "      <th>ID_T_G</th>\n",
       "      <th>ID_R_G</th>\n",
       "      <th>RESULT_G</th>\n",
       "      <th>DATE_G</th>\n",
       "    </tr>\n",
       "  </thead>\n",
       "  <tbody>\n",
       "    <tr>\n",
       "      <th>0</th>\n",
       "      <td>17613</td>\n",
       "      <td>18854</td>\n",
       "      <td>8887</td>\n",
       "      <td>4</td>\n",
       "      <td>7-6(8) 3-6 10-7</td>\n",
       "      <td>2012-01-31 00:00:00</td>\n",
       "    </tr>\n",
       "    <tr>\n",
       "      <th>1</th>\n",
       "      <td>25192</td>\n",
       "      <td>25191</td>\n",
       "      <td>8888</td>\n",
       "      <td>4</td>\n",
       "      <td>6-3 6-2</td>\n",
       "      <td>2012-01-31 00:00:00</td>\n",
       "    </tr>\n",
       "    <tr>\n",
       "      <th>2</th>\n",
       "      <td>918</td>\n",
       "      <td>10828</td>\n",
       "      <td>8957</td>\n",
       "      <td>4</td>\n",
       "      <td>6-1 6-2</td>\n",
       "      <td>2012-01-31 00:00:00</td>\n",
       "    </tr>\n",
       "    <tr>\n",
       "      <th>3</th>\n",
       "      <td>3316</td>\n",
       "      <td>2379</td>\n",
       "      <td>8957</td>\n",
       "      <td>4</td>\n",
       "      <td>6-4 7-6(5)</td>\n",
       "      <td>2012-01-31 00:00:00</td>\n",
       "    </tr>\n",
       "    <tr>\n",
       "      <th>4</th>\n",
       "      <td>7869</td>\n",
       "      <td>6277</td>\n",
       "      <td>8957</td>\n",
       "      <td>4</td>\n",
       "      <td>6-4 6-4</td>\n",
       "      <td>2012-01-31 00:00:00</td>\n",
       "    </tr>\n",
       "  </tbody>\n",
       "</table>\n",
       "</div>"
      ],
      "text/plain": [
       "   ID1_G  ID2_G  ID_T_G  ID_R_G         RESULT_G               DATE_G\n",
       "0  17613  18854    8887       4  7-6(8) 3-6 10-7  2012-01-31 00:00:00\n",
       "1  25192  25191    8888       4          6-3 6-2  2012-01-31 00:00:00\n",
       "2    918  10828    8957       4          6-1 6-2  2012-01-31 00:00:00\n",
       "3   3316   2379    8957       4       6-4 7-6(5)  2012-01-31 00:00:00\n",
       "4   7869   6277    8957       4          6-4 6-4  2012-01-31 00:00:00"
      ]
     },
     "execution_count": 10,
     "metadata": {},
     "output_type": "execute_result"
    }
   ],
   "source": [
    "data_train.head()"
   ]
  },
  {
   "cell_type": "markdown",
   "metadata": {},
   "source": [
    "Data train is the table containing examples to train the model, it could be modified to add new features to get better result. That what I will discover in the next line of code :D"
   ]
  },
  {
   "cell_type": "markdown",
   "metadata": {},
   "source": [
    "ID1_G = player1 index (winner)</br>\n",
    "ID2_G = player2 index (loser)</br>\n",
    "ID_T_G = tournement index </br>\n",
    "ID_R_G = round </br>\n",
    "RESULT_G = match_result</br>\n",
    "DATE_G = match date"
   ]
  },
  {
   "cell_type": "code",
   "execution_count": null,
   "metadata": {},
   "outputs": [],
   "source": []
  }
 ],
 "metadata": {
  "kernelspec": {
   "display_name": "Python 3",
   "language": "python",
   "name": "python3"
  },
  "language_info": {
   "codemirror_mode": {
    "name": "ipython",
    "version": 3
   },
   "file_extension": ".py",
   "mimetype": "text/x-python",
   "name": "python",
   "nbconvert_exporter": "python",
   "pygments_lexer": "ipython3",
   "version": "3.7.3"
  }
 },
 "nbformat": 4,
 "nbformat_minor": 2
}
