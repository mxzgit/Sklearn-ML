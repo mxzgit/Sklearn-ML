{
 "cells": [
  {
   "cell_type": "markdown",
   "metadata": {},
   "source": [
    "</br>"
   ]
  },
  {
   "cell_type": "markdown",
   "metadata": {},
   "source": [
    "# Introduction"
   ]
  },
  {
   "cell_type": "markdown",
   "metadata": {},
   "source": [
    "This problem is one of the classic machine learning problem, with a multiple datasets containing information about tennis matches, players and tournements, we try to predict the winner player in the match given the minimum information.</br>\n",
    "</br>\n",
    "In the following notebook I will work on different ML models to answer this problem, and at the end I will present the best model with the best accuracy score.</br>\n",
    "</br>\n",
    "NB : I don't have the result for the test data, my objective with this exercice is to show my technical capacities wiin ML and data analisys. During the implementation of each model I will present briefly its theory also.</br>\n",
    "<font size=\"2.8\" color=\"#FF4500\" >Hope you enjoy it</font> "
   ]
  },
  {
   "cell_type": "markdown",
   "metadata": {},
   "source": [
    "# Environement set-up "
   ]
  },
  {
   "cell_type": "code",
   "execution_count": 79,
   "metadata": {},
   "outputs": [],
   "source": [
    "# Import libraries\n",
    "import numpy as np\n",
    "import sklearn\n",
    "import pandas as pd\n",
    "from pandas.plotting import scatter_matrix\n",
    "import xgboost as xgb\n",
    "from IPython.display import display\n",
    "import matplotlib.pyplot as plt\n",
    "import seaborn as sns\n",
    "from sklearn.preprocessing import scale\n",
    "from sklearn.model_selection import train_test_split\n",
    "from sklearn.metrics import f1_score\n",
    "from sklearn.metrics import confusion_matrix\n",
    "from sklearn.linear_model.stochastic_gradient import SGDClassifier\n",
    "%matplotlib inline"
   ]
  },
  {
   "cell_type": "code",
   "execution_count": 38,
   "metadata": {},
   "outputs": [],
   "source": [
    "# Import data files\n",
    "data_train     = pd.read_csv('train.csv',index_col=0)\n",
    "data_stats     = pd.read_csv('stats.csv',index_col=0)\n",
    "data_test      = pd.read_csv('test.csv')\n",
    "data_tour      = pd.read_csv('tour.csv')\n",
    "data_players   = pd.read_csv('players.csv')\n",
    "data_playerate = pd.read_csv('player_rates.csv',index_col=0)"
   ]
  },
  {
   "cell_type": "code",
   "execution_count": 5,
   "metadata": {},
   "outputs": [],
   "source": [
    "# Import test file\n",
    "data_test      = pd.read_csv('test.csv')"
   ]
  },
  {
   "cell_type": "markdown",
   "metadata": {},
   "source": [
    "# Data discovery "
   ]
  },
  {
   "cell_type": "code",
   "execution_count": 6,
   "metadata": {},
   "outputs": [
    {
     "data": {
      "text/html": [
       "<div>\n",
       "<style scoped>\n",
       "    .dataframe tbody tr th:only-of-type {\n",
       "        vertical-align: middle;\n",
       "    }\n",
       "\n",
       "    .dataframe tbody tr th {\n",
       "        vertical-align: top;\n",
       "    }\n",
       "\n",
       "    .dataframe thead th {\n",
       "        text-align: right;\n",
       "    }\n",
       "</style>\n",
       "<table border=\"1\" class=\"dataframe\">\n",
       "  <thead>\n",
       "    <tr style=\"text-align: right;\">\n",
       "      <th></th>\n",
       "      <th>ID1_G</th>\n",
       "      <th>ID2_G</th>\n",
       "      <th>ID_T_G</th>\n",
       "      <th>ID_R_G</th>\n",
       "      <th>RESULT_G</th>\n",
       "      <th>DATE_G</th>\n",
       "    </tr>\n",
       "  </thead>\n",
       "  <tbody>\n",
       "    <tr>\n",
       "      <th>0</th>\n",
       "      <td>17613</td>\n",
       "      <td>18854</td>\n",
       "      <td>8887</td>\n",
       "      <td>4</td>\n",
       "      <td>7-6(8) 3-6 10-7</td>\n",
       "      <td>2012-01-31 00:00:00</td>\n",
       "    </tr>\n",
       "    <tr>\n",
       "      <th>1</th>\n",
       "      <td>25192</td>\n",
       "      <td>25191</td>\n",
       "      <td>8888</td>\n",
       "      <td>4</td>\n",
       "      <td>6-3 6-2</td>\n",
       "      <td>2012-01-31 00:00:00</td>\n",
       "    </tr>\n",
       "    <tr>\n",
       "      <th>2</th>\n",
       "      <td>918</td>\n",
       "      <td>10828</td>\n",
       "      <td>8957</td>\n",
       "      <td>4</td>\n",
       "      <td>6-1 6-2</td>\n",
       "      <td>2012-01-31 00:00:00</td>\n",
       "    </tr>\n",
       "    <tr>\n",
       "      <th>3</th>\n",
       "      <td>3316</td>\n",
       "      <td>2379</td>\n",
       "      <td>8957</td>\n",
       "      <td>4</td>\n",
       "      <td>6-4 7-6(5)</td>\n",
       "      <td>2012-01-31 00:00:00</td>\n",
       "    </tr>\n",
       "    <tr>\n",
       "      <th>4</th>\n",
       "      <td>7869</td>\n",
       "      <td>6277</td>\n",
       "      <td>8957</td>\n",
       "      <td>4</td>\n",
       "      <td>6-4 6-4</td>\n",
       "      <td>2012-01-31 00:00:00</td>\n",
       "    </tr>\n",
       "  </tbody>\n",
       "</table>\n",
       "</div>"
      ],
      "text/plain": [
       "   ID1_G  ID2_G  ID_T_G  ID_R_G         RESULT_G               DATE_G\n",
       "0  17613  18854    8887       4  7-6(8) 3-6 10-7  2012-01-31 00:00:00\n",
       "1  25192  25191    8888       4          6-3 6-2  2012-01-31 00:00:00\n",
       "2    918  10828    8957       4          6-1 6-2  2012-01-31 00:00:00\n",
       "3   3316   2379    8957       4       6-4 7-6(5)  2012-01-31 00:00:00\n",
       "4   7869   6277    8957       4          6-4 6-4  2012-01-31 00:00:00"
      ]
     },
     "execution_count": 6,
     "metadata": {},
     "output_type": "execute_result"
    }
   ],
   "source": [
    "data_train.head()"
   ]
  },
  {
   "cell_type": "markdown",
   "metadata": {},
   "source": [
    "Data train is the table containing examples to train the model, it could be modified to add new features to get better result. That what I will discover in the next line of code :D"
   ]
  },
  {
   "cell_type": "markdown",
   "metadata": {},
   "source": [
    "ID1_G = player1 index (winner)</br>\n",
    "ID2_G = player2 index (loser)</br>\n",
    "ID_T_G = tournement index </br>\n",
    "ID_R_G = round </br>\n",
    "RESULT_G = match_result</br>\n",
    "DATE_G = match date"
   ]
  },
  {
   "cell_type": "markdown",
   "metadata": {},
   "source": [
    "</br>"
   ]
  },
  {
   "cell_type": "code",
   "execution_count": 7,
   "metadata": {},
   "outputs": [
    {
     "data": {
      "text/html": [
       "<div>\n",
       "<style scoped>\n",
       "    .dataframe tbody tr th:only-of-type {\n",
       "        vertical-align: middle;\n",
       "    }\n",
       "\n",
       "    .dataframe tbody tr th {\n",
       "        vertical-align: top;\n",
       "    }\n",
       "\n",
       "    .dataframe thead th {\n",
       "        text-align: right;\n",
       "    }\n",
       "</style>\n",
       "<table border=\"1\" class=\"dataframe\">\n",
       "  <thead>\n",
       "    <tr style=\"text-align: right;\">\n",
       "      <th></th>\n",
       "      <th>ID1</th>\n",
       "      <th>ID2</th>\n",
       "      <th>ID_T</th>\n",
       "      <th>ID_R</th>\n",
       "      <th>FS_1</th>\n",
       "      <th>FSOF_1</th>\n",
       "      <th>ACES_1</th>\n",
       "      <th>DF_1</th>\n",
       "      <th>UE_1</th>\n",
       "      <th>W1S_1</th>\n",
       "      <th>...</th>\n",
       "      <th>NAOF_2</th>\n",
       "      <th>TPW_2</th>\n",
       "      <th>FAST_2</th>\n",
       "      <th>A1S_2</th>\n",
       "      <th>A2S_2</th>\n",
       "      <th>RPW_1</th>\n",
       "      <th>RPWOF_1</th>\n",
       "      <th>RPW_2</th>\n",
       "      <th>RPWOF_2</th>\n",
       "      <th>MT</th>\n",
       "    </tr>\n",
       "  </thead>\n",
       "  <tbody>\n",
       "    <tr>\n",
       "      <th>0</th>\n",
       "      <td>6431</td>\n",
       "      <td>7042</td>\n",
       "      <td>8961</td>\n",
       "      <td>4</td>\n",
       "      <td>46.0</td>\n",
       "      <td>70.0</td>\n",
       "      <td>19.0</td>\n",
       "      <td>3.0</td>\n",
       "      <td>NaN</td>\n",
       "      <td>40</td>\n",
       "      <td>...</td>\n",
       "      <td>NaN</td>\n",
       "      <td>70</td>\n",
       "      <td>NaN</td>\n",
       "      <td>NaN</td>\n",
       "      <td>NaN</td>\n",
       "      <td>27.0</td>\n",
       "      <td>79.0</td>\n",
       "      <td>18.0</td>\n",
       "      <td>70.0</td>\n",
       "      <td>1899-12-30 01:35:35</td>\n",
       "    </tr>\n",
       "    <tr>\n",
       "      <th>1</th>\n",
       "      <td>11923</td>\n",
       "      <td>4078</td>\n",
       "      <td>8961</td>\n",
       "      <td>4</td>\n",
       "      <td>40.0</td>\n",
       "      <td>70.0</td>\n",
       "      <td>8.0</td>\n",
       "      <td>1.0</td>\n",
       "      <td>NaN</td>\n",
       "      <td>31</td>\n",
       "      <td>...</td>\n",
       "      <td>NaN</td>\n",
       "      <td>73</td>\n",
       "      <td>NaN</td>\n",
       "      <td>NaN</td>\n",
       "      <td>NaN</td>\n",
       "      <td>41.0</td>\n",
       "      <td>91.0</td>\n",
       "      <td>23.0</td>\n",
       "      <td>70.0</td>\n",
       "      <td>1899-12-30 01:38:41</td>\n",
       "    </tr>\n",
       "    <tr>\n",
       "      <th>2</th>\n",
       "      <td>662</td>\n",
       "      <td>1621</td>\n",
       "      <td>8961</td>\n",
       "      <td>4</td>\n",
       "      <td>52.0</td>\n",
       "      <td>83.0</td>\n",
       "      <td>4.0</td>\n",
       "      <td>4.0</td>\n",
       "      <td>NaN</td>\n",
       "      <td>33</td>\n",
       "      <td>...</td>\n",
       "      <td>NaN</td>\n",
       "      <td>75</td>\n",
       "      <td>NaN</td>\n",
       "      <td>NaN</td>\n",
       "      <td>NaN</td>\n",
       "      <td>31.0</td>\n",
       "      <td>74.0</td>\n",
       "      <td>32.0</td>\n",
       "      <td>83.0</td>\n",
       "      <td>1899-12-30 01:42:36</td>\n",
       "    </tr>\n",
       "    <tr>\n",
       "      <th>3</th>\n",
       "      <td>7461</td>\n",
       "      <td>10320</td>\n",
       "      <td>8959</td>\n",
       "      <td>4</td>\n",
       "      <td>12.0</td>\n",
       "      <td>14.0</td>\n",
       "      <td>4.0</td>\n",
       "      <td>0.0</td>\n",
       "      <td>NaN</td>\n",
       "      <td>10</td>\n",
       "      <td>...</td>\n",
       "      <td>NaN</td>\n",
       "      <td>10</td>\n",
       "      <td>NaN</td>\n",
       "      <td>NaN</td>\n",
       "      <td>NaN</td>\n",
       "      <td>12.0</td>\n",
       "      <td>20.0</td>\n",
       "      <td>2.0</td>\n",
       "      <td>14.0</td>\n",
       "      <td>1899-12-30 00:21:11</td>\n",
       "    </tr>\n",
       "    <tr>\n",
       "      <th>4</th>\n",
       "      <td>12495</td>\n",
       "      <td>3996</td>\n",
       "      <td>8959</td>\n",
       "      <td>4</td>\n",
       "      <td>68.0</td>\n",
       "      <td>110.0</td>\n",
       "      <td>4.0</td>\n",
       "      <td>0.0</td>\n",
       "      <td>NaN</td>\n",
       "      <td>36</td>\n",
       "      <td>...</td>\n",
       "      <td>NaN</td>\n",
       "      <td>114</td>\n",
       "      <td>NaN</td>\n",
       "      <td>NaN</td>\n",
       "      <td>NaN</td>\n",
       "      <td>55.0</td>\n",
       "      <td>122.0</td>\n",
       "      <td>47.0</td>\n",
       "      <td>110.0</td>\n",
       "      <td>1899-12-30 02:38:00</td>\n",
       "    </tr>\n",
       "  </tbody>\n",
       "</table>\n",
       "<p>5 rows × 45 columns</p>\n",
       "</div>"
      ],
      "text/plain": [
       "     ID1    ID2  ID_T  ID_R  FS_1  FSOF_1  ACES_1  DF_1  UE_1  W1S_1  ...  \\\n",
       "0   6431   7042  8961     4  46.0    70.0    19.0   3.0   NaN     40  ...   \n",
       "1  11923   4078  8961     4  40.0    70.0     8.0   1.0   NaN     31  ...   \n",
       "2    662   1621  8961     4  52.0    83.0     4.0   4.0   NaN     33  ...   \n",
       "3   7461  10320  8959     4  12.0    14.0     4.0   0.0   NaN     10  ...   \n",
       "4  12495   3996  8959     4  68.0   110.0     4.0   0.0   NaN     36  ...   \n",
       "\n",
       "   NAOF_2  TPW_2  FAST_2  A1S_2  A2S_2  RPW_1  RPWOF_1  RPW_2  RPWOF_2  \\\n",
       "0     NaN     70     NaN    NaN    NaN   27.0     79.0   18.0     70.0   \n",
       "1     NaN     73     NaN    NaN    NaN   41.0     91.0   23.0     70.0   \n",
       "2     NaN     75     NaN    NaN    NaN   31.0     74.0   32.0     83.0   \n",
       "3     NaN     10     NaN    NaN    NaN   12.0     20.0    2.0     14.0   \n",
       "4     NaN    114     NaN    NaN    NaN   55.0    122.0   47.0    110.0   \n",
       "\n",
       "                    MT  \n",
       "0  1899-12-30 01:35:35  \n",
       "1  1899-12-30 01:38:41  \n",
       "2  1899-12-30 01:42:36  \n",
       "3  1899-12-30 00:21:11  \n",
       "4  1899-12-30 02:38:00  \n",
       "\n",
       "[5 rows x 45 columns]"
      ]
     },
     "execution_count": 7,
     "metadata": {},
     "output_type": "execute_result"
    }
   ],
   "source": [
    "data_stats.head()"
   ]
  },
  {
   "cell_type": "markdown",
   "metadata": {},
   "source": [
    "</br>"
   ]
  },
  {
   "cell_type": "markdown",
   "metadata": {},
   "source": [
    "Is the table containing the most information on each match two players had "
   ]
  },
  {
   "cell_type": "markdown",
   "metadata": {},
   "source": [
    "ID1 : L’identifiant du joueur qui a gagné le match</br>\n",
    "ID2 : L’identifiant du joueur qui a perdu le match</br>\n",
    "ID_T : L’identifiant du tournoi (voir tours_atp)</br>\n",
    "ID_R : L’identfiant du extit{round} dans le tournoi </br>\n",
    "FS_1 : Nombre de premiers services réussis par joueur 1</br>\n",
    "FS_OF1 : Nombre de premiers services par joueur 1</br>\n",
    "ACES_1 : Aces du joueur 1</br>\n",
    "DF_1 : Double Fautes commis par joueur 1</br>\n",
    "UE_1 : Unforced errors</br>\n",
    "W1S_1: Nombre de points gagnés sur premier service</br>\n",
    "W1SOF_1: Nombre de points joués sur premier service</br>\n",
    "W2S_1: Nombre de points gagnés sur second service</br>\n",
    "W2SOF_1: Nombre de points joués sur second service</br>\n",
    "WIS_1 : Nombre de points gagnés en tout</br>\n",
    "BP_1 : Nombre de balles de break gagnées</br>\n",
    "BPOF_1 : Nombre de balles de break obtenues</br>\n",
    "RPW_1 : Nombre de points gagnés</br>\n",
    "RPW_OF1 : Nombre de points jouées</br>\n",
    "Same features for player 2"
   ]
  },
  {
   "cell_type": "markdown",
   "metadata": {},
   "source": [
    "</br>"
   ]
  },
  {
   "cell_type": "code",
   "execution_count": 8,
   "metadata": {},
   "outputs": [
    {
     "data": {
      "text/html": [
       "<div>\n",
       "<style scoped>\n",
       "    .dataframe tbody tr th:only-of-type {\n",
       "        vertical-align: middle;\n",
       "    }\n",
       "\n",
       "    .dataframe tbody tr th {\n",
       "        vertical-align: top;\n",
       "    }\n",
       "\n",
       "    .dataframe thead th {\n",
       "        text-align: right;\n",
       "    }\n",
       "</style>\n",
       "<table border=\"1\" class=\"dataframe\">\n",
       "  <thead>\n",
       "    <tr style=\"text-align: right;\">\n",
       "      <th></th>\n",
       "      <th>ID_P</th>\n",
       "      <th>NAME_P</th>\n",
       "      <th>DATE_P</th>\n",
       "      <th>COUNTRY_P</th>\n",
       "      <th>RANK_P</th>\n",
       "      <th>PROGRESS_P</th>\n",
       "      <th>POINT_P</th>\n",
       "      <th>HARDPOINT_P</th>\n",
       "      <th>HARDTOUR_P</th>\n",
       "      <th>CLAYPOINT_P</th>\n",
       "      <th>...</th>\n",
       "      <th>CARPETPOINT_P</th>\n",
       "      <th>CARPETTOUR_P</th>\n",
       "      <th>PRIZE_P</th>\n",
       "      <th>CH_P</th>\n",
       "      <th>DR_P</th>\n",
       "      <th>DP_P</th>\n",
       "      <th>DO_P</th>\n",
       "      <th>IHARDPOINT_P</th>\n",
       "      <th>IHARDTOUR_P</th>\n",
       "      <th>ITF_ID</th>\n",
       "    </tr>\n",
       "  </thead>\n",
       "  <tbody>\n",
       "    <tr>\n",
       "      <th>0</th>\n",
       "      <td>1</td>\n",
       "      <td>Gustavo Kuerten</td>\n",
       "      <td>1976-09-10 00:00:00</td>\n",
       "      <td>BRA</td>\n",
       "      <td>NaN</td>\n",
       "      <td>NaN</td>\n",
       "      <td>NaN</td>\n",
       "      <td>NaN</td>\n",
       "      <td>NaN</td>\n",
       "      <td>NaN</td>\n",
       "      <td>...</td>\n",
       "      <td>NaN</td>\n",
       "      <td>NaN</td>\n",
       "      <td>NaN</td>\n",
       "      <td>NaN</td>\n",
       "      <td>NaN</td>\n",
       "      <td>NaN</td>\n",
       "      <td>NaN</td>\n",
       "      <td>NaN</td>\n",
       "      <td>NaN</td>\n",
       "      <td>NaN</td>\n",
       "    </tr>\n",
       "    <tr>\n",
       "      <th>1</th>\n",
       "      <td>2</td>\n",
       "      <td>Marat Safin</td>\n",
       "      <td>1980-01-27 00:00:00</td>\n",
       "      <td>RUS</td>\n",
       "      <td>NaN</td>\n",
       "      <td>NaN</td>\n",
       "      <td>NaN</td>\n",
       "      <td>NaN</td>\n",
       "      <td>NaN</td>\n",
       "      <td>NaN</td>\n",
       "      <td>...</td>\n",
       "      <td>NaN</td>\n",
       "      <td>NaN</td>\n",
       "      <td>NaN</td>\n",
       "      <td>NaN</td>\n",
       "      <td>NaN</td>\n",
       "      <td>NaN</td>\n",
       "      <td>NaN</td>\n",
       "      <td>NaN</td>\n",
       "      <td>NaN</td>\n",
       "      <td>NaN</td>\n",
       "    </tr>\n",
       "    <tr>\n",
       "      <th>2</th>\n",
       "      <td>3</td>\n",
       "      <td>Andre Agassi</td>\n",
       "      <td>1970-04-29 00:00:00</td>\n",
       "      <td>USA</td>\n",
       "      <td>NaN</td>\n",
       "      <td>NaN</td>\n",
       "      <td>NaN</td>\n",
       "      <td>NaN</td>\n",
       "      <td>NaN</td>\n",
       "      <td>NaN</td>\n",
       "      <td>...</td>\n",
       "      <td>NaN</td>\n",
       "      <td>NaN</td>\n",
       "      <td>NaN</td>\n",
       "      <td>NaN</td>\n",
       "      <td>NaN</td>\n",
       "      <td>NaN</td>\n",
       "      <td>NaN</td>\n",
       "      <td>NaN</td>\n",
       "      <td>NaN</td>\n",
       "      <td>NaN</td>\n",
       "    </tr>\n",
       "    <tr>\n",
       "      <th>3</th>\n",
       "      <td>4</td>\n",
       "      <td>Pete Sampras</td>\n",
       "      <td>1971-08-12 00:00:00</td>\n",
       "      <td>USA</td>\n",
       "      <td>NaN</td>\n",
       "      <td>NaN</td>\n",
       "      <td>NaN</td>\n",
       "      <td>NaN</td>\n",
       "      <td>NaN</td>\n",
       "      <td>NaN</td>\n",
       "      <td>...</td>\n",
       "      <td>NaN</td>\n",
       "      <td>NaN</td>\n",
       "      <td>NaN</td>\n",
       "      <td>NaN</td>\n",
       "      <td>NaN</td>\n",
       "      <td>NaN</td>\n",
       "      <td>NaN</td>\n",
       "      <td>NaN</td>\n",
       "      <td>NaN</td>\n",
       "      <td>NaN</td>\n",
       "    </tr>\n",
       "    <tr>\n",
       "      <th>4</th>\n",
       "      <td>5</td>\n",
       "      <td>Magnus Norman</td>\n",
       "      <td>1976-05-30 00:00:00</td>\n",
       "      <td>SWE</td>\n",
       "      <td>NaN</td>\n",
       "      <td>NaN</td>\n",
       "      <td>NaN</td>\n",
       "      <td>NaN</td>\n",
       "      <td>NaN</td>\n",
       "      <td>NaN</td>\n",
       "      <td>...</td>\n",
       "      <td>NaN</td>\n",
       "      <td>NaN</td>\n",
       "      <td>NaN</td>\n",
       "      <td>NaN</td>\n",
       "      <td>NaN</td>\n",
       "      <td>NaN</td>\n",
       "      <td>NaN</td>\n",
       "      <td>NaN</td>\n",
       "      <td>NaN</td>\n",
       "      <td>NaN</td>\n",
       "    </tr>\n",
       "  </tbody>\n",
       "</table>\n",
       "<p>5 rows × 23 columns</p>\n",
       "</div>"
      ],
      "text/plain": [
       "   ID_P           NAME_P               DATE_P COUNTRY_P  RANK_P  PROGRESS_P  \\\n",
       "0     1  Gustavo Kuerten  1976-09-10 00:00:00       BRA     NaN         NaN   \n",
       "1     2      Marat Safin  1980-01-27 00:00:00       RUS     NaN         NaN   \n",
       "2     3     Andre Agassi  1970-04-29 00:00:00       USA     NaN         NaN   \n",
       "3     4     Pete Sampras  1971-08-12 00:00:00       USA     NaN         NaN   \n",
       "4     5    Magnus Norman  1976-05-30 00:00:00       SWE     NaN         NaN   \n",
       "\n",
       "   POINT_P  HARDPOINT_P  HARDTOUR_P  CLAYPOINT_P  ...  CARPETPOINT_P  \\\n",
       "0      NaN          NaN         NaN          NaN  ...            NaN   \n",
       "1      NaN          NaN         NaN          NaN  ...            NaN   \n",
       "2      NaN          NaN         NaN          NaN  ...            NaN   \n",
       "3      NaN          NaN         NaN          NaN  ...            NaN   \n",
       "4      NaN          NaN         NaN          NaN  ...            NaN   \n",
       "\n",
       "   CARPETTOUR_P  PRIZE_P  CH_P  DR_P  DP_P  DO_P  IHARDPOINT_P  IHARDTOUR_P  \\\n",
       "0           NaN      NaN   NaN   NaN   NaN   NaN           NaN          NaN   \n",
       "1           NaN      NaN   NaN   NaN   NaN   NaN           NaN          NaN   \n",
       "2           NaN      NaN   NaN   NaN   NaN   NaN           NaN          NaN   \n",
       "3           NaN      NaN   NaN   NaN   NaN   NaN           NaN          NaN   \n",
       "4           NaN      NaN   NaN   NaN   NaN   NaN           NaN          NaN   \n",
       "\n",
       "   ITF_ID  \n",
       "0     NaN  \n",
       "1     NaN  \n",
       "2     NaN  \n",
       "3     NaN  \n",
       "4     NaN  \n",
       "\n",
       "[5 rows x 23 columns]"
      ]
     },
     "execution_count": 8,
     "metadata": {},
     "output_type": "execute_result"
    }
   ],
   "source": [
    "data_players.head()"
   ]
  },
  {
   "cell_type": "markdown",
   "metadata": {},
   "source": [
    "The table containing information on each player"
   ]
  },
  {
   "cell_type": "markdown",
   "metadata": {},
   "source": [
    "</br>"
   ]
  },
  {
   "cell_type": "code",
   "execution_count": 9,
   "metadata": {},
   "outputs": [
    {
     "data": {
      "text/html": [
       "<div>\n",
       "<style scoped>\n",
       "    .dataframe tbody tr th:only-of-type {\n",
       "        vertical-align: middle;\n",
       "    }\n",
       "\n",
       "    .dataframe tbody tr th {\n",
       "        vertical-align: top;\n",
       "    }\n",
       "\n",
       "    .dataframe thead th {\n",
       "        text-align: right;\n",
       "    }\n",
       "</style>\n",
       "<table border=\"1\" class=\"dataframe\">\n",
       "  <thead>\n",
       "    <tr style=\"text-align: right;\">\n",
       "      <th></th>\n",
       "      <th>DATE_R</th>\n",
       "      <th>ID_P_R</th>\n",
       "      <th>POINT_R</th>\n",
       "      <th>POS_R</th>\n",
       "    </tr>\n",
       "  </thead>\n",
       "  <tbody>\n",
       "    <tr>\n",
       "      <th>0</th>\n",
       "      <td>2012-01-02 00:00:00</td>\n",
       "      <td>5992</td>\n",
       "      <td>13630</td>\n",
       "      <td>1</td>\n",
       "    </tr>\n",
       "    <tr>\n",
       "      <th>1</th>\n",
       "      <td>2012-01-02 00:00:00</td>\n",
       "      <td>677</td>\n",
       "      <td>9595</td>\n",
       "      <td>2</td>\n",
       "    </tr>\n",
       "    <tr>\n",
       "      <th>2</th>\n",
       "      <td>2012-01-02 00:00:00</td>\n",
       "      <td>19</td>\n",
       "      <td>8170</td>\n",
       "      <td>3</td>\n",
       "    </tr>\n",
       "    <tr>\n",
       "      <th>3</th>\n",
       "      <td>2012-01-02 00:00:00</td>\n",
       "      <td>1075</td>\n",
       "      <td>7380</td>\n",
       "      <td>4</td>\n",
       "    </tr>\n",
       "    <tr>\n",
       "      <th>4</th>\n",
       "      <td>2012-01-02 00:00:00</td>\n",
       "      <td>673</td>\n",
       "      <td>4925</td>\n",
       "      <td>5</td>\n",
       "    </tr>\n",
       "  </tbody>\n",
       "</table>\n",
       "</div>"
      ],
      "text/plain": [
       "                DATE_R  ID_P_R  POINT_R  POS_R\n",
       "0  2012-01-02 00:00:00    5992    13630      1\n",
       "1  2012-01-02 00:00:00     677     9595      2\n",
       "2  2012-01-02 00:00:00      19     8170      3\n",
       "3  2012-01-02 00:00:00    1075     7380      4\n",
       "4  2012-01-02 00:00:00     673     4925      5"
      ]
     },
     "execution_count": 9,
     "metadata": {},
     "output_type": "execute_result"
    }
   ],
   "source": [
    "data_playerate.head()"
   ]
  },
  {
   "cell_type": "markdown",
   "metadata": {},
   "source": [
    "Table containing the ranking of each player per year"
   ]
  },
  {
   "cell_type": "markdown",
   "metadata": {},
   "source": [
    "</br>"
   ]
  },
  {
   "cell_type": "code",
   "execution_count": 10,
   "metadata": {},
   "outputs": [
    {
     "data": {
      "text/html": [
       "<div>\n",
       "<style scoped>\n",
       "    .dataframe tbody tr th:only-of-type {\n",
       "        vertical-align: middle;\n",
       "    }\n",
       "\n",
       "    .dataframe tbody tr th {\n",
       "        vertical-align: top;\n",
       "    }\n",
       "\n",
       "    .dataframe thead th {\n",
       "        text-align: right;\n",
       "    }\n",
       "</style>\n",
       "<table border=\"1\" class=\"dataframe\">\n",
       "  <thead>\n",
       "    <tr style=\"text-align: right;\">\n",
       "      <th></th>\n",
       "      <th>ID_T</th>\n",
       "      <th>NAME_T</th>\n",
       "      <th>ID_C_T</th>\n",
       "      <th>DATE_T</th>\n",
       "      <th>RANK_T</th>\n",
       "      <th>LINK_T</th>\n",
       "      <th>COUNTRY_T</th>\n",
       "      <th>PRIZE_T</th>\n",
       "      <th>RATING_T</th>\n",
       "      <th>URL_T</th>\n",
       "      <th>...</th>\n",
       "      <th>SITE_T</th>\n",
       "      <th>RACE_T</th>\n",
       "      <th>ENTRY_T</th>\n",
       "      <th>SINGLES_T</th>\n",
       "      <th>DOUBLES_T</th>\n",
       "      <th>TIER_T</th>\n",
       "      <th>RESERVE_INT_T</th>\n",
       "      <th>RESERVE_CHAR_T</th>\n",
       "      <th>LIVE_T</th>\n",
       "      <th>RESULT_T</th>\n",
       "    </tr>\n",
       "  </thead>\n",
       "  <tbody>\n",
       "    <tr>\n",
       "      <th>0</th>\n",
       "      <td>1</td>\n",
       "      <td>Australian Men's Hardcourt Championships - Ade...</td>\n",
       "      <td>1</td>\n",
       "      <td>1997-01-01 00:00:00</td>\n",
       "      <td>2</td>\n",
       "      <td>1600.0</td>\n",
       "      <td>AUS</td>\n",
       "      <td>$303K</td>\n",
       "      <td>NaN</td>\n",
       "      <td>NaN</td>\n",
       "      <td>...</td>\n",
       "      <td>NaN</td>\n",
       "      <td>NaN</td>\n",
       "      <td>NaN</td>\n",
       "      <td>NaN</td>\n",
       "      <td>NaN</td>\n",
       "      <td>NaN</td>\n",
       "      <td>NaN</td>\n",
       "      <td>NaN</td>\n",
       "      <td>NaN</td>\n",
       "      <td>NaN</td>\n",
       "    </tr>\n",
       "    <tr>\n",
       "      <th>1</th>\n",
       "      <td>2</td>\n",
       "      <td>Qatar Mobil Open - Doha</td>\n",
       "      <td>1</td>\n",
       "      <td>1997-01-01 00:00:00</td>\n",
       "      <td>2</td>\n",
       "      <td>1601.0</td>\n",
       "      <td>QAT</td>\n",
       "      <td>$600K</td>\n",
       "      <td>NaN</td>\n",
       "      <td>NaN</td>\n",
       "      <td>...</td>\n",
       "      <td>NaN</td>\n",
       "      <td>NaN</td>\n",
       "      <td>NaN</td>\n",
       "      <td>NaN</td>\n",
       "      <td>NaN</td>\n",
       "      <td>NaN</td>\n",
       "      <td>NaN</td>\n",
       "      <td>NaN</td>\n",
       "      <td>NaN</td>\n",
       "      <td>NaN</td>\n",
       "    </tr>\n",
       "    <tr>\n",
       "      <th>2</th>\n",
       "      <td>3</td>\n",
       "      <td>BellSouth Open - Auckland</td>\n",
       "      <td>1</td>\n",
       "      <td>1997-01-06 00:00:00</td>\n",
       "      <td>2</td>\n",
       "      <td>1603.0</td>\n",
       "      <td>NZL</td>\n",
       "      <td>$303K</td>\n",
       "      <td>NaN</td>\n",
       "      <td>NaN</td>\n",
       "      <td>...</td>\n",
       "      <td>NaN</td>\n",
       "      <td>NaN</td>\n",
       "      <td>NaN</td>\n",
       "      <td>NaN</td>\n",
       "      <td>NaN</td>\n",
       "      <td>NaN</td>\n",
       "      <td>NaN</td>\n",
       "      <td>NaN</td>\n",
       "      <td>NaN</td>\n",
       "      <td>NaN</td>\n",
       "    </tr>\n",
       "    <tr>\n",
       "      <th>3</th>\n",
       "      <td>4</td>\n",
       "      <td>Sydney International - Sydney</td>\n",
       "      <td>1</td>\n",
       "      <td>1997-01-06 00:00:00</td>\n",
       "      <td>2</td>\n",
       "      <td>1604.0</td>\n",
       "      <td>AUS</td>\n",
       "      <td>$303K</td>\n",
       "      <td>NaN</td>\n",
       "      <td>NaN</td>\n",
       "      <td>...</td>\n",
       "      <td>NaN</td>\n",
       "      <td>NaN</td>\n",
       "      <td>NaN</td>\n",
       "      <td>NaN</td>\n",
       "      <td>NaN</td>\n",
       "      <td>NaN</td>\n",
       "      <td>NaN</td>\n",
       "      <td>NaN</td>\n",
       "      <td>NaN</td>\n",
       "      <td>NaN</td>\n",
       "    </tr>\n",
       "    <tr>\n",
       "      <th>4</th>\n",
       "      <td>5</td>\n",
       "      <td>Australian Open - Melbourne</td>\n",
       "      <td>1</td>\n",
       "      <td>1997-01-13 00:00:00</td>\n",
       "      <td>4</td>\n",
       "      <td>1605.0</td>\n",
       "      <td>AUS</td>\n",
       "      <td>$3.538M</td>\n",
       "      <td>NaN</td>\n",
       "      <td>NaN</td>\n",
       "      <td>...</td>\n",
       "      <td>NaN</td>\n",
       "      <td>NaN</td>\n",
       "      <td>NaN</td>\n",
       "      <td>NaN</td>\n",
       "      <td>NaN</td>\n",
       "      <td>NaN</td>\n",
       "      <td>NaN</td>\n",
       "      <td>NaN</td>\n",
       "      <td>NaN</td>\n",
       "      <td>NaN</td>\n",
       "    </tr>\n",
       "  </tbody>\n",
       "</table>\n",
       "<p>5 rows × 22 columns</p>\n",
       "</div>"
      ],
      "text/plain": [
       "   ID_T                                             NAME_T  ID_C_T  \\\n",
       "0     1  Australian Men's Hardcourt Championships - Ade...       1   \n",
       "1     2                            Qatar Mobil Open - Doha       1   \n",
       "2     3                          BellSouth Open - Auckland       1   \n",
       "3     4                      Sydney International - Sydney       1   \n",
       "4     5                        Australian Open - Melbourne       1   \n",
       "\n",
       "                DATE_T  RANK_T  LINK_T COUNTRY_T  PRIZE_T  RATING_T URL_T  \\\n",
       "0  1997-01-01 00:00:00       2  1600.0       AUS    $303K       NaN   NaN   \n",
       "1  1997-01-01 00:00:00       2  1601.0       QAT    $600K       NaN   NaN   \n",
       "2  1997-01-06 00:00:00       2  1603.0       NZL    $303K       NaN   NaN   \n",
       "3  1997-01-06 00:00:00       2  1604.0       AUS    $303K       NaN   NaN   \n",
       "4  1997-01-13 00:00:00       4  1605.0       AUS  $3.538M       NaN   NaN   \n",
       "\n",
       "   ...  SITE_T  RACE_T  ENTRY_T  SINGLES_T  DOUBLES_T  TIER_T  RESERVE_INT_T  \\\n",
       "0  ...     NaN     NaN      NaN        NaN        NaN     NaN            NaN   \n",
       "1  ...     NaN     NaN      NaN        NaN        NaN     NaN            NaN   \n",
       "2  ...     NaN     NaN      NaN        NaN        NaN     NaN            NaN   \n",
       "3  ...     NaN     NaN      NaN        NaN        NaN     NaN            NaN   \n",
       "4  ...     NaN     NaN      NaN        NaN        NaN     NaN            NaN   \n",
       "\n",
       "  RESERVE_CHAR_T  LIVE_T RESULT_T  \n",
       "0            NaN     NaN      NaN  \n",
       "1            NaN     NaN      NaN  \n",
       "2            NaN     NaN      NaN  \n",
       "3            NaN     NaN      NaN  \n",
       "4            NaN     NaN      NaN  \n",
       "\n",
       "[5 rows x 22 columns]"
      ]
     },
     "execution_count": 10,
     "metadata": {},
     "output_type": "execute_result"
    }
   ],
   "source": [
    "data_tour.head()"
   ]
  },
  {
   "cell_type": "markdown",
   "metadata": {},
   "source": [
    "Table containing information about each tournement"
   ]
  },
  {
   "cell_type": "markdown",
   "metadata": {},
   "source": [
    "## Data pre-processing "
   ]
  },
  {
   "cell_type": "markdown",
   "metadata": {},
   "source": [
    "### Missing values"
   ]
  },
  {
   "cell_type": "code",
   "execution_count": 41,
   "metadata": {},
   "outputs": [
    {
     "data": {
      "text/plain": [
       "ID1_G       0.0\n",
       "ID2_G       0.0\n",
       "ID_T_G      0.0\n",
       "ID_R_G      0.0\n",
       "RESULT_G    0.0\n",
       "DATE_G      0.0\n",
       "dtype: float64"
      ]
     },
     "execution_count": 41,
     "metadata": {},
     "output_type": "execute_result"
    }
   ],
   "source": [
    "data_train.isnull().sum()/data_train.shape[0] * 100"
   ]
  },
  {
   "cell_type": "code",
   "execution_count": 42,
   "metadata": {},
   "outputs": [
    {
     "data": {
      "text/plain": [
       "ID_P              0.000000\n",
       "NAME_P            0.000000\n",
       "DATE_P           51.905979\n",
       "COUNTRY_P        50.790108\n",
       "RANK_P           98.380188\n",
       "PROGRESS_P       98.380188\n",
       "POINT_P          98.380188\n",
       "HARDPOINT_P      98.380188\n",
       "HARDTOUR_P       98.380188\n",
       "CLAYPOINT_P      98.380188\n",
       "CLAYTOUR_P       98.380188\n",
       "GRASSPOINT_P     98.380188\n",
       "GRASSTOUR_P      98.380188\n",
       "CARPETPOINT_P    98.380188\n",
       "CARPETTOUR_P     98.380188\n",
       "PRIZE_P          96.880962\n",
       "CH_P             99.820021\n",
       "DR_P             98.380188\n",
       "DP_P             98.380188\n",
       "DO_P             98.380188\n",
       "IHARDPOINT_P     98.380188\n",
       "IHARDTOUR_P      98.380188\n",
       "ITF_ID           71.912458\n",
       "dtype: float64"
      ]
     },
     "execution_count": 42,
     "metadata": {},
     "output_type": "execute_result"
    }
   ],
   "source": [
    "data_players.isnull().sum()/data_players.shape[0] * 100"
   ]
  },
  {
   "cell_type": "markdown",
   "metadata": {},
   "source": [
    "As it is shown for the table players most features are Null, and we could not use any of the technique to complete them"
   ]
  },
  {
   "cell_type": "code",
   "execution_count": 60,
   "metadata": {},
   "outputs": [
    {
     "data": {
      "text/plain": [
       "DATE_R     0.0\n",
       "ID_P_R     0.0\n",
       "POINT_R    0.0\n",
       "POS_R      0.0\n",
       "dtype: float64"
      ]
     },
     "execution_count": 60,
     "metadata": {},
     "output_type": "execute_result"
    }
   ],
   "source": [
    "data_playerate.isnull().sum()/data_playerate.shape[0] * 100"
   ]
  },
  {
   "cell_type": "code",
   "execution_count": 61,
   "metadata": {},
   "outputs": [
    {
     "data": {
      "text/plain": [
       "ID1         0.000000\n",
       "ID2         0.000000\n",
       "ID_T        0.000000\n",
       "ID_R        0.000000\n",
       "FS_1        0.002645\n",
       "FSOF_1      0.002645\n",
       "ACES_1      0.942984\n",
       "DF_1        0.293608\n",
       "UE_1       92.899181\n",
       "W1S_1       0.000000\n",
       "W1SOF_1     0.000000\n",
       "W2S_1       0.001323\n",
       "W2SOF_1     0.001323\n",
       "WIS_1      92.878020\n",
       "BP_1        0.023806\n",
       "BPOF_1      0.023806\n",
       "NA_1       96.396027\n",
       "NAOF_1     96.396027\n",
       "TPW_1       0.000000\n",
       "FAST_1     97.733134\n",
       "A1S_1      97.776779\n",
       "A2S_1      97.776779\n",
       "FS_2        0.002645\n",
       "FSOF_2      0.002645\n",
       "ACES_2      0.945630\n",
       "DF_2        0.294931\n",
       "UE_2       92.899181\n",
       "W1S_2       0.000000\n",
       "W1SOF_2     0.000000\n",
       "W2S_2       0.001323\n",
       "W2SOF_2     0.001323\n",
       "WIS_2      92.878020\n",
       "BP_2        0.034387\n",
       "BPOF_2      0.027774\n",
       "NA_2       96.396027\n",
       "NAOF_2     96.397350\n",
       "TPW_2       0.000000\n",
       "FAST_2     97.733134\n",
       "A1S_2      97.776779\n",
       "A2S_2      97.776779\n",
       "RPW_1       0.641441\n",
       "RPWOF_1     0.641441\n",
       "RPW_2       0.641441\n",
       "RPWOF_2     0.641441\n",
       "MT          0.470831\n",
       "dtype: float64"
      ]
     },
     "execution_count": 61,
     "metadata": {},
     "output_type": "execute_result"
    }
   ],
   "source": [
    "data_stats.isnull().sum()/data_stats.shape[0] * 100"
   ]
  },
  {
   "cell_type": "markdown",
   "metadata": {},
   "source": [
    "Some columns contains lot of missing values, I will drop them since I could not replace them with certain values (mean, median)</br>\n",
    "I should mention that during the next step, \"data preprocessing\", I will complete the missing values, drop certain columns and make opperations between columns having a certain correlation"
   ]
  },
  {
   "cell_type": "code",
   "execution_count": 62,
   "metadata": {},
   "outputs": [
    {
     "data": {
      "text/plain": [
       "ID_T                0.000000\n",
       "NAME_T              0.000000\n",
       "ID_C_T              0.000000\n",
       "DATE_T              0.000000\n",
       "RANK_T              0.000000\n",
       "LINK_T             64.675678\n",
       "COUNTRY_T           0.000000\n",
       "PRIZE_T            10.820811\n",
       "RATING_T           93.324775\n",
       "URL_T              80.125349\n",
       "LATITUDE_T         58.038209\n",
       "LONGITUDE_T        58.038209\n",
       "SITE_T             83.478064\n",
       "RACE_T             85.026051\n",
       "ENTRY_T            85.010949\n",
       "SINGLES_T          94.193159\n",
       "DOUBLES_T          94.200710\n",
       "TIER_T             89.262252\n",
       "RESERVE_INT_T     100.000000\n",
       "RESERVE_CHAR_T     63.641169\n",
       "LIVE_T            100.000000\n",
       "RESULT_T           98.648343\n",
       "dtype: float64"
      ]
     },
     "execution_count": 62,
     "metadata": {},
     "output_type": "execute_result"
    }
   ],
   "source": [
    "data_tour.isnull().sum()/data_tour.shape[0] * 100"
   ]
  },
  {
   "cell_type": "markdown",
   "metadata": {},
   "source": [
    "## Filling missing values "
   ]
  },
  {
   "cell_type": "markdown",
   "metadata": {},
   "source": [
    "The first data preprocessing is to combine columns with hight correlation, without any calculations, we can understaind that for the number of winning point during the first serve is correlated to the number of first serve W1S_1 to W1SOF_1 (same for player2), so I will combine this two columns in one column reflecting the rate of winning first serve </br>\n",
    "The same idea goes for many columns : </br>\n",
    "W1S_1 and W1SOF_1</br>\n",
    "W2S_1 and W2SOF_1</br>\n",
    "FS_1 and FS_OF_1</br>\n",
    "BP_1 and BPOF_1</br>\n",
    "RPW_1 and RPW_OF1</br>\n",
    "and the same thing goes for player 2 </br>\n",
    "Then I will drop thes columns"
   ]
  },
  {
   "cell_type": "code",
   "execution_count": 39,
   "metadata": {},
   "outputs": [],
   "source": [
    "tuples = [('W1SR_1', 'W1S_1', 'W1SOF_1'),\n",
    "          ('W2SR_1', 'W2S_1', 'W2SOF_1'),\n",
    "          ('FSR_1', 'FS_1', 'FSOF_1'),\n",
    "          ('BPR_1', 'BP_1', 'BPOF_1'),\n",
    "          ('RPWR_1', 'RPW_1', 'RPWOF_1'),\n",
    "          ('W1SR_2', 'W1S_2', 'W1SOF_2'),\n",
    "          ('W2SR_2', 'W2S_2', 'W2SOF_2'),\n",
    "          ('FSR_2', 'FS_2', 'FSOF_2'),\n",
    "          ('BPR_2', 'BP_2', 'BPOF_2'),\n",
    "          ('RPWR_2', 'RPW_2', 'RPWOF_2'),\n",
    "]\n",
    "for tup in tuples:\n",
    "    data_stats[tup[0]] = data_stats[tup[1]] / data_stats[tup[2]]"
   ]
  },
  {
   "cell_type": "code",
   "execution_count": 40,
   "metadata": {},
   "outputs": [],
   "source": [
    "data_stats.drop(['W1S_1', 'W1SOF_1', 'W2S_1', 'W2SOF_1', 'FS_1', 'FSOF_1', 'BP_1', 'BPOF_1', 'RPW_1', 'RPWOF_1', \n",
    "                 'W1S_2', 'W1SOF_2', 'W2S_2', 'W2SOF_2', 'FS_2', 'FSOF_2', 'BP_2', 'BPOF_2', 'RPW_2', 'RPWOF_2'],\n",
    "               inplace = True, axis = 1)"
   ]
  },
  {
   "cell_type": "code",
   "execution_count": 42,
   "metadata": {},
   "outputs": [],
   "source": [
    "data_stats.drop(['UE_1', 'WIS_1', 'NA_1', 'NAOF_1', 'A1S_1', 'A2S_1', 'FAST_1',\n",
    "                 'UE_2', 'WIS_2', 'NA_2', 'NAOF_2', 'A1S_2', 'A2S_2', 'FAST_2'],\n",
    "               inplace = True, axis = 1)"
   ]
  },
  {
   "cell_type": "code",
   "execution_count": 43,
   "metadata": {},
   "outputs": [
    {
     "data": {
      "text/plain": [
       "ID1        0.000000\n",
       "ID2        0.000000\n",
       "ID_T       0.000000\n",
       "ID_R       0.000000\n",
       "ACES_1     0.942984\n",
       "DF_1       0.293608\n",
       "TPW_1      0.000000\n",
       "ACES_2     0.945630\n",
       "DF_2       0.294931\n",
       "TPW_2      0.000000\n",
       "MT         0.470831\n",
       "W1SR_1     0.014548\n",
       "W2SR_1     0.025129\n",
       "FSR_1      0.014548\n",
       "BPR_1      0.220867\n",
       "RPWR_1     0.649376\n",
       "W1SR_2     0.010580\n",
       "W2SR_2     0.026451\n",
       "FSR_2      0.010580\n",
       "BPR_2     10.091124\n",
       "RPWR_2     0.653344\n",
       "dtype: float64"
      ]
     },
     "execution_count": 43,
     "metadata": {},
     "output_type": "execute_result"
    }
   ],
   "source": [
    "data_stats.isnull().sum()/data_stats.shape[0] * 100"
   ]
  },
  {
   "cell_type": "markdown",
   "metadata": {},
   "source": [
    "## Data format"
   ]
  },
  {
   "cell_type": "code",
   "execution_count": 100,
   "metadata": {},
   "outputs": [],
   "source": [
    "# Formattage des colonnes dates\n",
    "def date_tras(df,name):\n",
    "    df[name] = pd.to_datetime(df[name])"
   ]
  },
  {
   "cell_type": "code",
   "execution_count": 101,
   "metadata": {},
   "outputs": [],
   "source": [
    "date_tras(data_train,'DATE_G')\n",
    "date_tras(data_stats,'MT')\n",
    "date_tras(data_playerate,'DATE_R')"
   ]
  },
  {
   "cell_type": "markdown",
   "metadata": {},
   "source": [
    "# Some stats "
   ]
  },
  {
   "cell_type": "code",
   "execution_count": 12,
   "metadata": {},
   "outputs": [
    {
     "name": "stdout",
     "output_type": "stream",
     "text": [
      "The number of training examples: 73366 \n",
      "The number of training features: 6\n"
     ]
    }
   ],
   "source": [
    "print(\"The number of training examples: {} \\nThe number of training features: {}\".format(data_train.shape[0],data_train.shape[1]))"
   ]
  },
  {
   "cell_type": "code",
   "execution_count": 15,
   "metadata": {},
   "outputs": [
    {
     "name": "stdout",
     "output_type": "stream",
     "text": [
      "Number of distinct players : 55562 \n",
      "The number of training features: 23\n"
     ]
    }
   ],
   "source": [
    "print(\"Number of distinct players : {} \\nThe number of training features: {}\".format(data_players.NAME_P.unique().shape[0],data_players.shape[1]))"
   ]
  },
  {
   "cell_type": "code",
   "execution_count": 16,
   "metadata": {},
   "outputs": [
    {
     "name": "stdout",
     "output_type": "stream",
     "text": [
      "Number of distinct tournement : 4412 \n",
      "The number of training features: 22\n"
     ]
    }
   ],
   "source": [
    "print(\"Number of distinct tournement : {} \\nThe number of training features: {}\".format(data_tour.NAME_T.unique().shape[0],data_tour.shape[1]))"
   ]
  },
  {
   "cell_type": "markdown",
   "metadata": {},
   "source": [
    "### The top ten winners player"
   ]
  },
  {
   "cell_type": "code",
   "execution_count": 77,
   "metadata": {},
   "outputs": [],
   "source": [
    "top10player = {}\n",
    "top10player_list = data_stats.ID1.value_counts().head(10)\n",
    "for player_idx in top10player_list.index:\n",
    "    top10player[data_players.NAME_P[data_players.ID_P == player_idx].iloc[0]] = top10player_list.loc[player_idx]"
   ]
  },
  {
   "cell_type": "code",
   "execution_count": 99,
   "metadata": {},
   "outputs": [
    {
     "data": {
      "image/png": "[encoded data removed]",
      "text/plain": [
       "<Figure size 1080x720 with 1 Axes>"
      ]
     },
     "metadata": {
      "needs_background": "light"
     },
     "output_type": "display_data"
    }
   ],
   "source": [
    "plt.figure(figsize=(15,10))\n",
    "plt.bar(range(len(top10player)), top10player.values(), align='center', color = 'black',alpha= 0.3)\n",
    "plt.xticks(range(len(top10player)), list(top10player.keys()))\n",
    "plt.title(\"The top 10 player\")\n",
    "plt.show()"
   ]
  },
  {
   "cell_type": "markdown",
   "metadata": {},
   "source": [
    "#### Correlation matrix for top 10 players"
   ]
  },
  {
   "cell_type": "code",
   "execution_count": 189,
   "metadata": {},
   "outputs": [],
   "source": [
    "data_stats['top_ten'] = data_stats.ID1.apply(lambda x: x in top10player_list.index)"
   ]
  },
  {
   "cell_type": "code",
   "execution_count": 190,
   "metadata": {},
   "outputs": [],
   "source": [
    "data_stats_top_ten = data_stats[data_stats.top_ten == True]"
   ]
  },
  {
   "cell_type": "code",
   "execution_count": 203,
   "metadata": {},
   "outputs": [],
   "source": [
    "corr = data_stats_top_ten[['ID1','DF_1', 'TPW_1','ACES_1','W1SR_1', 'W2SR_1', 'FSR_1', 'BPR_1', 'RPWR_1','ID_R']].corr()"
   ]
  },
  {
   "cell_type": "code",
   "execution_count": 204,
   "metadata": {},
   "outputs": [
    {
     "data": {
      "text/plain": [
       "<matplotlib.axes._subplots.AxesSubplot at 0x1d24b6e7b38>"
      ]
     },
     "execution_count": 204,
     "metadata": {},
     "output_type": "execute_result"
    },
    {
     "data": {
      "image/png": "[encoded data removed]",
      "text/plain": [
       "<Figure size 792x648 with 2 Axes>"
      ]
     },
     "metadata": {
      "needs_background": "light"
     },
     "output_type": "display_data"
    }
   ],
   "source": [
    "mask = np.zeros_like(corr, dtype=np.bool)\n",
    "mask[np.triu_indices_from(mask)] = True\n",
    "f, ax = plt.subplots(figsize=(11, 9))\n",
    "cmap = sns.diverging_palette(220, 10, as_cmap=True)\n",
    "sns.heatmap(corr, mask=mask, cmap=cmap, vmax=.3, center=0,\n",
    "            square=True, linewidths=.5, cbar_kws={\"shrink\": .5})"
   ]
  },
  {
   "cell_type": "markdown",
   "metadata": {},
   "source": [
    "In the graph there is some logical results and other that need to be reviewd, the winning rate is positively correlated to the number of Double faults is so strange, but for other metrics they are logicaly correlated :D.</br>\n",
    "We notice that the winning rate is so correlated with number of aces, which means that the player wins easely the point and the match is not so challenging.</br>\n",
    "Same thing goes for the other features"
   ]
  },
  {
   "cell_type": "markdown",
   "metadata": {},
   "source": [
    "### top 3 Favorit tournements for the 10 top players"
   ]
  },
  {
   "cell_type": "code",
   "execution_count": 168,
   "metadata": {},
   "outputs": [],
   "source": [
    "player_tournement = {}\n",
    "for player_idx in top10player_list.index:\n",
    "    player_name = data_players.NAME_P[data_players.ID_P == player_idx].iloc[0]\n",
    "    player_tournement[player_name] = data_stats.ID_T[data_stats.ID1 == player_idx].value_counts().head(3)\n",
    "    player_tournement[player_name].index = list(data_tour.NAME_T.iloc[player_tournement[player_name].index])"
   ]
  },
  {
   "cell_type": "code",
   "execution_count": 172,
   "metadata": {},
   "outputs": [
    {
     "name": "stdout",
     "output_type": "stream",
     "text": [
      "Top 3 tournement for 'Novak Djokovic'\n",
      "Davis Cup, Group II, PO, TUN-BLR 2-3    7\n",
      "USA F14                                 7\n",
      "Algeria F1                              7\n",
      "Name: ID_T, dtype: int64\n",
      "\n",
      "\n",
      "Top 3 tournement for 'Roger Federer'\n",
      "Davis Cup, Group I, 2R, BRA-COL 3-1    7\n",
      "Algeria F1                             6\n",
      "France F9                              6\n",
      "Name: ID_T, dtype: int64\n",
      "\n",
      "\n",
      "Top 3 tournement for 'Andy Murray'\n",
      "Davis Cup, Group II, PO, HKG-SRI 2-3    7\n",
      "Mexico F2                               7\n",
      "Great Britain F11                       7\n",
      "Name: ID_T, dtype: int64\n",
      "\n",
      "\n",
      "Top 3 tournement for 'David Ferrer'\n",
      "Mexico F6                               6\n",
      "Sweden F2                               5\n",
      "Davis Cup, Group II, PO, HKG-SRI 2-3    5\n",
      "Name: ID_T, dtype: int64\n",
      "\n",
      "\n",
      "Top 3 tournement for 'Tomas Berdych'\n",
      "France F9    5\n",
      "Mexico F2    5\n",
      "USA F12      5\n",
      "Name: ID_T, dtype: int64\n",
      "\n",
      "\n",
      "Top 3 tournement for 'Rafael Nadal'\n",
      "Kazakhstan F5                          7\n",
      "Davis Cup, Group I, 2R, NED-ROU 5-0    7\n",
      "Mexico F6                              7\n",
      "Name: ID_T, dtype: int64\n",
      "\n",
      "\n",
      "Top 3 tournement for 'Kei Nishikori'\n",
      "Czech Republic F2    6\n",
      "Great Britain F11    5\n",
      "Mexico F3            5\n",
      "Name: ID_T, dtype: int64\n",
      "\n",
      "\n",
      "Top 3 tournement for 'Paolo Lorenzi'\n",
      "Bangkok Challenger       5\n",
      "Casablanca Challenger    5\n",
      "Vietnam F4               5\n",
      "Name: ID_T, dtype: int64\n",
      "\n",
      "\n",
      "Top 3 tournement for 'Milos Raonic'\n",
      "Mexico F2            6\n",
      "Czech Republic F1    5\n",
      "India F5             5\n",
      "Name: ID_T, dtype: int64\n",
      "\n",
      "\n",
      "Top 3 tournement for 'David Goffin'\n",
      "Portugal F12                           5\n",
      "Norway F1                              5\n",
      "Davis Cup, Group I, 2R, NED-ROU 5-0    5\n",
      "Name: ID_T, dtype: int64\n",
      "\n",
      "\n"
     ]
    }
   ],
   "source": [
    "for player in player_tournement:\n",
    "    print(\"Top 3 tournement for '{}'\".format(player))\n",
    "    print(player_tournement[player])\n",
    "    print(\"\\n\")"
   ]
  },
  {
   "cell_type": "markdown",
   "metadata": {},
   "source": [
    "It is so clear that this dataset is so old as these players won lot of well known tournements </br> <font color=\"red\">'NADAL' and 'Kazakhstan' so weird !!!!!</font>"
   ]
  },
  {
   "cell_type": "code",
   "execution_count": null,
   "metadata": {},
   "outputs": [],
   "source": []
  },
  {
   "cell_type": "code",
   "execution_count": null,
   "metadata": {},
   "outputs": [],
   "source": []
  },
  {
   "cell_type": "code",
   "execution_count": null,
   "metadata": {},
   "outputs": [],
   "source": []
  },
  {
   "cell_type": "code",
   "execution_count": null,
   "metadata": {},
   "outputs": [],
   "source": []
  },
  {
   "cell_type": "code",
   "execution_count": null,
   "metadata": {},
   "outputs": [],
   "source": []
  },
  {
   "cell_type": "code",
   "execution_count": null,
   "metadata": {},
   "outputs": [],
   "source": []
  },
  {
   "cell_type": "code",
   "execution_count": null,
   "metadata": {},
   "outputs": [],
   "source": []
  }
 ],
 "metadata": {
  "kernelspec": {
   "display_name": "Python 3",
   "language": "python",
   "name": "python3"
  },
  "language_info": {
   "codemirror_mode": {
    "name": "ipython",
    "version": 3
   },
   "file_extension": ".py",
   "mimetype": "text/x-python",
   "name": "python",
   "nbconvert_exporter": "python",
   "pygments_lexer": "ipython3",
   "version": "3.7.3"
  }
 },
 "nbformat": 4,
 "nbformat_minor": 2
}
