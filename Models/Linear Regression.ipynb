{
 "cells": [
  {
   "cell_type": "markdown",
   "metadata": {},
   "source": [
    "# Linear Regression"
   ]
  },
  {
   "cell_type": "markdown",
   "metadata": {},
   "source": [
    "## I - Theory"
   ]
  },
  {
   "cell_type": "markdown",
   "metadata": {},
   "source": [
    "Given a dataset where the output y is correlated to the variable X, linearely, we can finde a serie of coefficents (a,b) that fit the following criteria:<br>\n",
    "\\begin{equation*}\n",
    "y_i = a * x_i + b \n",
    "\\end{equation*}\n",
    "using this formula we can predict the output of a value x with an error \n",
    "\\begin{align} \n",
    "L(a,b) = \\sum(y_i - \\hat{y_i})²\n",
    "\\end{align}\n",
    "based on the loss we calculated, we can use the gradient descent technic to fit the values of a, b.<br>\n",
    "Given initial parameters a,b and a learning parameter lr, we start fitting those variables to get the local minima of our convex loss function.<br>\n",
    "<center><img src=\"../images/loss.png\" width=\"50%\"></center>"
   ]
  },
  {
   "cell_type": "markdown",
   "metadata": {},
   "source": [
    "## II - Code"
   ]
  },
  {
   "cell_type": "code",
   "execution_count": 25,
   "metadata": {},
   "outputs": [],
   "source": [
    "import warnings\n",
    "warnings.filterwarnings('ignore')"
   ]
  },
  {
   "cell_type": "code",
   "execution_count": 26,
   "metadata": {},
   "outputs": [],
   "source": [
    "import pandas as pd\n",
    "import numpy as np\n",
    "import matplotlib.pyplot as plt\n",
    "import seaborn as sns"
   ]
  },
  {
   "cell_type": "code",
   "execution_count": 27,
   "metadata": {
    "scrolled": true
   },
   "outputs": [],
   "source": [
    "X = [round(np.random.uniform(-10, 10), 2) for _ in range(100)]\n",
    "y = [X[i]*(5+round(np.random.uniform(-3, 3), 2))+ round(np.random.uniform(-10, 10), 2) for i in range(100)]"
   ]
  },
  {
   "cell_type": "code",
   "execution_count": 28,
   "metadata": {},
   "outputs": [],
   "source": [
    "data = pd.DataFrame(np.array([X,y])).T\n",
    "data.columns = ['X', 'y']"
   ]
  },
  {
   "cell_type": "code",
   "execution_count": 29,
   "metadata": {
    "scrolled": true
   },
   "outputs": [
    {
     "data": {
      "text/html": [
       "<div>\n",
       "<style scoped>\n",
       "    .dataframe tbody tr th:only-of-type {\n",
       "        vertical-align: middle;\n",
       "    }\n",
       "\n",
       "    .dataframe tbody tr th {\n",
       "        vertical-align: top;\n",
       "    }\n",
       "\n",
       "    .dataframe thead th {\n",
       "        text-align: right;\n",
       "    }\n",
       "</style>\n",
       "<table border=\"1\" class=\"dataframe\">\n",
       "  <thead>\n",
       "    <tr style=\"text-align: right;\">\n",
       "      <th></th>\n",
       "      <th>X</th>\n",
       "      <th>y</th>\n",
       "    </tr>\n",
       "  </thead>\n",
       "  <tbody>\n",
       "    <tr>\n",
       "      <th>0</th>\n",
       "      <td>-2.10</td>\n",
       "      <td>0.9030</td>\n",
       "    </tr>\n",
       "    <tr>\n",
       "      <th>1</th>\n",
       "      <td>-4.22</td>\n",
       "      <td>-12.7916</td>\n",
       "    </tr>\n",
       "    <tr>\n",
       "      <th>2</th>\n",
       "      <td>9.32</td>\n",
       "      <td>58.3152</td>\n",
       "    </tr>\n",
       "    <tr>\n",
       "      <th>3</th>\n",
       "      <td>1.19</td>\n",
       "      <td>6.9552</td>\n",
       "    </tr>\n",
       "    <tr>\n",
       "      <th>4</th>\n",
       "      <td>2.86</td>\n",
       "      <td>27.0264</td>\n",
       "    </tr>\n",
       "    <tr>\n",
       "      <th>5</th>\n",
       "      <td>-3.01</td>\n",
       "      <td>-9.2072</td>\n",
       "    </tr>\n",
       "    <tr>\n",
       "      <th>6</th>\n",
       "      <td>-2.80</td>\n",
       "      <td>-11.7820</td>\n",
       "    </tr>\n",
       "    <tr>\n",
       "      <th>7</th>\n",
       "      <td>-7.52</td>\n",
       "      <td>-59.6096</td>\n",
       "    </tr>\n",
       "    <tr>\n",
       "      <th>8</th>\n",
       "      <td>-4.94</td>\n",
       "      <td>-16.4402</td>\n",
       "    </tr>\n",
       "    <tr>\n",
       "      <th>9</th>\n",
       "      <td>0.88</td>\n",
       "      <td>-6.1208</td>\n",
       "    </tr>\n",
       "    <tr>\n",
       "      <th>10</th>\n",
       "      <td>-2.94</td>\n",
       "      <td>-12.9340</td>\n",
       "    </tr>\n",
       "    <tr>\n",
       "      <th>11</th>\n",
       "      <td>7.94</td>\n",
       "      <td>17.3648</td>\n",
       "    </tr>\n",
       "    <tr>\n",
       "      <th>12</th>\n",
       "      <td>9.73</td>\n",
       "      <td>42.7412</td>\n",
       "    </tr>\n",
       "    <tr>\n",
       "      <th>13</th>\n",
       "      <td>8.08</td>\n",
       "      <td>61.6016</td>\n",
       "    </tr>\n",
       "    <tr>\n",
       "      <th>14</th>\n",
       "      <td>4.60</td>\n",
       "      <td>34.6080</td>\n",
       "    </tr>\n",
       "    <tr>\n",
       "      <th>15</th>\n",
       "      <td>5.30</td>\n",
       "      <td>11.3750</td>\n",
       "    </tr>\n",
       "    <tr>\n",
       "      <th>16</th>\n",
       "      <td>-8.47</td>\n",
       "      <td>-25.9490</td>\n",
       "    </tr>\n",
       "    <tr>\n",
       "      <th>17</th>\n",
       "      <td>4.16</td>\n",
       "      <td>39.4344</td>\n",
       "    </tr>\n",
       "    <tr>\n",
       "      <th>18</th>\n",
       "      <td>7.19</td>\n",
       "      <td>14.3923</td>\n",
       "    </tr>\n",
       "    <tr>\n",
       "      <th>19</th>\n",
       "      <td>5.26</td>\n",
       "      <td>18.7540</td>\n",
       "    </tr>\n",
       "    <tr>\n",
       "      <th>20</th>\n",
       "      <td>4.49</td>\n",
       "      <td>18.6051</td>\n",
       "    </tr>\n",
       "    <tr>\n",
       "      <th>21</th>\n",
       "      <td>-8.24</td>\n",
       "      <td>-53.1076</td>\n",
       "    </tr>\n",
       "    <tr>\n",
       "      <th>22</th>\n",
       "      <td>-5.57</td>\n",
       "      <td>-40.2091</td>\n",
       "    </tr>\n",
       "    <tr>\n",
       "      <th>23</th>\n",
       "      <td>2.55</td>\n",
       "      <td>20.5630</td>\n",
       "    </tr>\n",
       "    <tr>\n",
       "      <th>24</th>\n",
       "      <td>-2.70</td>\n",
       "      <td>-16.9160</td>\n",
       "    </tr>\n",
       "    <tr>\n",
       "      <th>25</th>\n",
       "      <td>5.87</td>\n",
       "      <td>23.9278</td>\n",
       "    </tr>\n",
       "    <tr>\n",
       "      <th>26</th>\n",
       "      <td>2.41</td>\n",
       "      <td>11.7345</td>\n",
       "    </tr>\n",
       "    <tr>\n",
       "      <th>27</th>\n",
       "      <td>8.70</td>\n",
       "      <td>63.0600</td>\n",
       "    </tr>\n",
       "    <tr>\n",
       "      <th>28</th>\n",
       "      <td>-8.93</td>\n",
       "      <td>-39.6060</td>\n",
       "    </tr>\n",
       "    <tr>\n",
       "      <th>29</th>\n",
       "      <td>1.41</td>\n",
       "      <td>12.8079</td>\n",
       "    </tr>\n",
       "    <tr>\n",
       "      <th>...</th>\n",
       "      <td>...</td>\n",
       "      <td>...</td>\n",
       "    </tr>\n",
       "    <tr>\n",
       "      <th>70</th>\n",
       "      <td>-8.12</td>\n",
       "      <td>-45.3556</td>\n",
       "    </tr>\n",
       "    <tr>\n",
       "      <th>71</th>\n",
       "      <td>7.17</td>\n",
       "      <td>19.9025</td>\n",
       "    </tr>\n",
       "    <tr>\n",
       "      <th>72</th>\n",
       "      <td>2.67</td>\n",
       "      <td>-2.9785</td>\n",
       "    </tr>\n",
       "    <tr>\n",
       "      <th>73</th>\n",
       "      <td>8.12</td>\n",
       "      <td>22.1068</td>\n",
       "    </tr>\n",
       "    <tr>\n",
       "      <th>74</th>\n",
       "      <td>-8.84</td>\n",
       "      <td>-27.2408</td>\n",
       "    </tr>\n",
       "    <tr>\n",
       "      <th>75</th>\n",
       "      <td>3.91</td>\n",
       "      <td>13.1689</td>\n",
       "    </tr>\n",
       "    <tr>\n",
       "      <th>76</th>\n",
       "      <td>9.69</td>\n",
       "      <td>37.4346</td>\n",
       "    </tr>\n",
       "    <tr>\n",
       "      <th>77</th>\n",
       "      <td>7.13</td>\n",
       "      <td>20.9270</td>\n",
       "    </tr>\n",
       "    <tr>\n",
       "      <th>78</th>\n",
       "      <td>3.53</td>\n",
       "      <td>2.7027</td>\n",
       "    </tr>\n",
       "    <tr>\n",
       "      <th>79</th>\n",
       "      <td>2.12</td>\n",
       "      <td>1.8920</td>\n",
       "    </tr>\n",
       "    <tr>\n",
       "      <th>80</th>\n",
       "      <td>1.81</td>\n",
       "      <td>14.4979</td>\n",
       "    </tr>\n",
       "    <tr>\n",
       "      <th>81</th>\n",
       "      <td>7.36</td>\n",
       "      <td>38.6156</td>\n",
       "    </tr>\n",
       "    <tr>\n",
       "      <th>82</th>\n",
       "      <td>-2.02</td>\n",
       "      <td>-12.0742</td>\n",
       "    </tr>\n",
       "    <tr>\n",
       "      <th>83</th>\n",
       "      <td>7.15</td>\n",
       "      <td>16.7315</td>\n",
       "    </tr>\n",
       "    <tr>\n",
       "      <th>84</th>\n",
       "      <td>4.09</td>\n",
       "      <td>38.8948</td>\n",
       "    </tr>\n",
       "    <tr>\n",
       "      <th>85</th>\n",
       "      <td>9.88</td>\n",
       "      <td>62.9800</td>\n",
       "    </tr>\n",
       "    <tr>\n",
       "      <th>86</th>\n",
       "      <td>-6.73</td>\n",
       "      <td>-30.6076</td>\n",
       "    </tr>\n",
       "    <tr>\n",
       "      <th>87</th>\n",
       "      <td>0.82</td>\n",
       "      <td>-0.0572</td>\n",
       "    </tr>\n",
       "    <tr>\n",
       "      <th>88</th>\n",
       "      <td>-7.79</td>\n",
       "      <td>-23.5050</td>\n",
       "    </tr>\n",
       "    <tr>\n",
       "      <th>89</th>\n",
       "      <td>9.87</td>\n",
       "      <td>55.2411</td>\n",
       "    </tr>\n",
       "    <tr>\n",
       "      <th>90</th>\n",
       "      <td>6.75</td>\n",
       "      <td>29.9225</td>\n",
       "    </tr>\n",
       "    <tr>\n",
       "      <th>91</th>\n",
       "      <td>7.99</td>\n",
       "      <td>30.1367</td>\n",
       "    </tr>\n",
       "    <tr>\n",
       "      <th>92</th>\n",
       "      <td>3.09</td>\n",
       "      <td>24.9429</td>\n",
       "    </tr>\n",
       "    <tr>\n",
       "      <th>93</th>\n",
       "      <td>9.39</td>\n",
       "      <td>28.7894</td>\n",
       "    </tr>\n",
       "    <tr>\n",
       "      <th>94</th>\n",
       "      <td>-7.05</td>\n",
       "      <td>-57.5395</td>\n",
       "    </tr>\n",
       "    <tr>\n",
       "      <th>95</th>\n",
       "      <td>3.15</td>\n",
       "      <td>20.3640</td>\n",
       "    </tr>\n",
       "    <tr>\n",
       "      <th>96</th>\n",
       "      <td>5.64</td>\n",
       "      <td>10.7996</td>\n",
       "    </tr>\n",
       "    <tr>\n",
       "      <th>97</th>\n",
       "      <td>9.34</td>\n",
       "      <td>54.9626</td>\n",
       "    </tr>\n",
       "    <tr>\n",
       "      <th>98</th>\n",
       "      <td>-3.91</td>\n",
       "      <td>-20.0775</td>\n",
       "    </tr>\n",
       "    <tr>\n",
       "      <th>99</th>\n",
       "      <td>-4.20</td>\n",
       "      <td>-16.0040</td>\n",
       "    </tr>\n",
       "  </tbody>\n",
       "</table>\n",
       "<p>100 rows × 2 columns</p>\n",
       "</div>"
      ],
      "text/plain": [
       "       X        y\n",
       "0  -2.10   0.9030\n",
       "1  -4.22 -12.7916\n",
       "2   9.32  58.3152\n",
       "3   1.19   6.9552\n",
       "4   2.86  27.0264\n",
       "5  -3.01  -9.2072\n",
       "6  -2.80 -11.7820\n",
       "7  -7.52 -59.6096\n",
       "8  -4.94 -16.4402\n",
       "9   0.88  -6.1208\n",
       "10 -2.94 -12.9340\n",
       "11  7.94  17.3648\n",
       "12  9.73  42.7412\n",
       "13  8.08  61.6016\n",
       "14  4.60  34.6080\n",
       "15  5.30  11.3750\n",
       "16 -8.47 -25.9490\n",
       "17  4.16  39.4344\n",
       "18  7.19  14.3923\n",
       "19  5.26  18.7540\n",
       "20  4.49  18.6051\n",
       "21 -8.24 -53.1076\n",
       "22 -5.57 -40.2091\n",
       "23  2.55  20.5630\n",
       "24 -2.70 -16.9160\n",
       "25  5.87  23.9278\n",
       "26  2.41  11.7345\n",
       "27  8.70  63.0600\n",
       "28 -8.93 -39.6060\n",
       "29  1.41  12.8079\n",
       "..   ...      ...\n",
       "70 -8.12 -45.3556\n",
       "71  7.17  19.9025\n",
       "72  2.67  -2.9785\n",
       "73  8.12  22.1068\n",
       "74 -8.84 -27.2408\n",
       "75  3.91  13.1689\n",
       "76  9.69  37.4346\n",
       "77  7.13  20.9270\n",
       "78  3.53   2.7027\n",
       "79  2.12   1.8920\n",
       "80  1.81  14.4979\n",
       "81  7.36  38.6156\n",
       "82 -2.02 -12.0742\n",
       "83  7.15  16.7315\n",
       "84  4.09  38.8948\n",
       "85  9.88  62.9800\n",
       "86 -6.73 -30.6076\n",
       "87  0.82  -0.0572\n",
       "88 -7.79 -23.5050\n",
       "89  9.87  55.2411\n",
       "90  6.75  29.9225\n",
       "91  7.99  30.1367\n",
       "92  3.09  24.9429\n",
       "93  9.39  28.7894\n",
       "94 -7.05 -57.5395\n",
       "95  3.15  20.3640\n",
       "96  5.64  10.7996\n",
       "97  9.34  54.9626\n",
       "98 -3.91 -20.0775\n",
       "99 -4.20 -16.0040\n",
       "\n",
       "[100 rows x 2 columns]"
      ]
     },
     "execution_count": 29,
     "metadata": {},
     "output_type": "execute_result"
    }
   ],
   "source": [
    "data"
   ]
  },
  {
   "cell_type": "code",
   "execution_count": 30,
   "metadata": {},
   "outputs": [
    {
     "data": {
      "text/plain": [
       "<matplotlib.axes._subplots.AxesSubplot at 0x7f40fb656a20>"
      ]
     },
     "execution_count": 30,
     "metadata": {},
     "output_type": "execute_result"
    },
    {
     "data": {
      "image/png": "[encoded data removed]",
      "text/plain": [
       "<Figure size 720x504 with 1 Axes>"
      ]
     },
     "metadata": {
      "needs_background": "light"
     },
     "output_type": "display_data"
    }
   ],
   "source": [
    "plt.figure(figsize=(10,7))\n",
    "sns.scatterplot(x='X', y=y, data=data)"
   ]
  },
  {
   "cell_type": "code",
   "execution_count": 31,
   "metadata": {},
   "outputs": [
    {
     "data": {
      "text/plain": [
       "<matplotlib.axes._subplots.AxesSubplot at 0x7f40fb5c4860>"
      ]
     },
     "execution_count": 31,
     "metadata": {},
     "output_type": "execute_result"
    },
    {
     "data": {
      "image/png": "[encoded data removed]",
      "text/plain": [
       "<Figure size 720x504 with 1 Axes>"
      ]
     },
     "metadata": {
      "needs_background": "light"
     },
     "output_type": "display_data"
    }
   ],
   "source": [
    "# Draw a line y = ax + b\n",
    "a = round(np.random.uniform(-10,10), 2)\n",
    "b = round(np.random.uniform(-10,10), 2)\n",
    "def lin(x,a,b):\n",
    "    return np.dot(x,a) + b\n",
    "\n",
    "plt.figure(figsize=(10,7))\n",
    "sns.lineplot(X,lin(X, a, b))"
   ]
  },
  {
   "cell_type": "code",
   "execution_count": 32,
   "metadata": {},
   "outputs": [
    {
     "data": {
      "text/plain": [
       "<matplotlib.axes._subplots.AxesSubplot at 0x7f40fb5414e0>"
      ]
     },
     "execution_count": 32,
     "metadata": {},
     "output_type": "execute_result"
    },
    {
     "data": {
      "image/png": "[encoded data removed]",
      "text/plain": [
       "<Figure size 720x504 with 1 Axes>"
      ]
     },
     "metadata": {
      "needs_background": "light"
     },
     "output_type": "display_data"
    }
   ],
   "source": [
    "plt.figure(figsize=(10,7))\n",
    "sns.lineplot(X,lin(X, a, b),color=\"red\")\n",
    "sns.scatterplot(x='X', y='y', data=data)"
   ]
  },
  {
   "cell_type": "code",
   "execution_count": 33,
   "metadata": {},
   "outputs": [],
   "source": [
    "a_1 = sum(np.array(np.array(X)-np.mean(data.X)) * np.array(np.array(y)-np.mean(data.y))) / sum(np.array(np.array(X)-np.mean(data.X)) * np.array(np.array(X)-np.mean(data.X)))\n",
    "b_1 = np.mean(data.y) - a * np.mean(data.X)"
   ]
  },
  {
   "cell_type": "code",
   "execution_count": 34,
   "metadata": {},
   "outputs": [
    {
     "data": {
      "text/plain": [
       "<matplotlib.legend.Legend at 0x7f40fb5416a0>"
      ]
     },
     "execution_count": 34,
     "metadata": {},
     "output_type": "execute_result"
    },
    {
     "data": {
      "image/png": "[encoded data removed]",
      "text/plain": [
       "<Figure size 720x504 with 1 Axes>"
      ]
     },
     "metadata": {
      "needs_background": "light"
     },
     "output_type": "display_data"
    }
   ],
   "source": [
    "plt.figure(figsize=(10,7))\n",
    "sns.lineplot(X,lin(X, a, b),color=\"red\")\n",
    "sns.lineplot(X,lin(X, a_1, b_1),color=\"black\")\n",
    "sns.scatterplot(x='X', y='y', data=data)\n",
    "plt.legend(['old','new'], ncol=2, loc='upper left')"
   ]
  },
  {
   "cell_type": "markdown",
   "metadata": {},
   "source": [
    "### Gradient descent"
   ]
  },
  {
   "cell_type": "code",
   "execution_count": 35,
   "metadata": {},
   "outputs": [],
   "source": [
    "def gradient(data, a, b):\n",
    "    D_a = (-1/data.shape[0]) * sum(np.multiply(np.array(data['y']-np.array([b]*data.shape[0])-a*np.array(data['X'])),data['X']))\n",
    "    D_b = (-1/data.shape[0]) * sum(np.array(data['y']-np.array([b]*data.shape[0])-a*np.array(data['X'])))\n",
    "    return D_a, D_b\n",
    "                        "
   ]
  },
  {
   "cell_type": "code",
   "execution_count": 36,
   "metadata": {
    "scrolled": true
   },
   "outputs": [
    {
     "name": "stdout",
     "output_type": "stream",
     "text": [
      "a = 4.92, b =-0.58\n"
     ]
    }
   ],
   "source": [
    "EPOCHS = 1000\n",
    "lr = 0.001\n",
    "(a, b) = (1, 1)\n",
    "for _ in range(EPOCHS):\n",
    "    a, b = a - lr*gradient(data, a, b)[0], b - lr*gradient(data, a, b)[1]\n",
    "\n",
    "print(\"a = {}, b ={}\".format(round(a, 2),round(b, 2)))"
   ]
  },
  {
   "cell_type": "code",
   "execution_count": 37,
   "metadata": {},
   "outputs": [
    {
     "data": {
      "text/plain": [
       "<matplotlib.legend.Legend at 0x7f40fb49eb38>"
      ]
     },
     "execution_count": 37,
     "metadata": {},
     "output_type": "execute_result"
    },
    {
     "data": {
      "image/png": "[encoded data removed]",
      "text/plain": [
       "<Figure size 720x504 with 1 Axes>"
      ]
     },
     "metadata": {
      "needs_background": "light"
     },
     "output_type": "display_data"
    }
   ],
   "source": [
    "plt.figure(figsize=(10,7))\n",
    "sns.lineplot(X,lin(X, a, b),color=\"red\")\n",
    "sns.lineplot(X,lin(X, a_1, b_1),color=\"black\")\n",
    "sns.scatterplot(x='X', y='y', data=data)\n",
    "plt.legend(['GD','AG'], ncol=2, loc='upper left')"
   ]
  },
  {
   "cell_type": "code",
   "execution_count": 38,
   "metadata": {},
   "outputs": [],
   "source": [
    "from sklearn.pipeline import Pipeline"
   ]
  },
  {
   "cell_type": "code",
   "execution_count": null,
   "metadata": {},
   "outputs": [],
   "source": []
  },
  {
   "cell_type": "code",
   "execution_count": null,
   "metadata": {},
   "outputs": [],
   "source": []
  },
  {
   "cell_type": "code",
   "execution_count": null,
   "metadata": {},
   "outputs": [],
   "source": []
  },
  {
   "cell_type": "code",
   "execution_count": null,
   "metadata": {},
   "outputs": [],
   "source": []
  },
  {
   "cell_type": "code",
   "execution_count": null,
   "metadata": {},
   "outputs": [],
   "source": []
  },
  {
   "cell_type": "code",
   "execution_count": null,
   "metadata": {},
   "outputs": [],
   "source": []
  },
  {
   "cell_type": "code",
   "execution_count": null,
   "metadata": {},
   "outputs": [],
   "source": []
  },
  {
   "cell_type": "code",
   "execution_count": null,
   "metadata": {},
   "outputs": [],
   "source": []
  },
  {
   "cell_type": "code",
   "execution_count": null,
   "metadata": {},
   "outputs": [],
   "source": []
  },
  {
   "cell_type": "code",
   "execution_count": null,
   "metadata": {},
   "outputs": [],
   "source": []
  },
  {
   "cell_type": "code",
   "execution_count": null,
   "metadata": {},
   "outputs": [],
   "source": []
  },
  {
   "cell_type": "code",
   "execution_count": null,
   "metadata": {},
   "outputs": [],
   "source": []
  },
  {
   "cell_type": "code",
   "execution_count": null,
   "metadata": {},
   "outputs": [],
   "source": []
  },
  {
   "cell_type": "code",
   "execution_count": null,
   "metadata": {},
   "outputs": [],
   "source": []
  },
  {
   "cell_type": "code",
   "execution_count": null,
   "metadata": {},
   "outputs": [],
   "source": []
  },
  {
   "cell_type": "code",
   "execution_count": null,
   "metadata": {},
   "outputs": [],
   "source": []
  },
  {
   "cell_type": "code",
   "execution_count": null,
   "metadata": {},
   "outputs": [],
   "source": []
  },
  {
   "cell_type": "code",
   "execution_count": null,
   "metadata": {},
   "outputs": [],
   "source": []
  },
  {
   "cell_type": "code",
   "execution_count": null,
   "metadata": {},
   "outputs": [],
   "source": []
  },
  {
   "cell_type": "code",
   "execution_count": null,
   "metadata": {},
   "outputs": [],
   "source": []
  },
  {
   "cell_type": "code",
   "execution_count": null,
   "metadata": {},
   "outputs": [],
   "source": []
  },
  {
   "cell_type": "code",
   "execution_count": null,
   "metadata": {},
   "outputs": [],
   "source": []
  },
  {
   "cell_type": "code",
   "execution_count": null,
   "metadata": {},
   "outputs": [],
   "source": []
  },
  {
   "cell_type": "code",
   "execution_count": null,
   "metadata": {},
   "outputs": [],
   "source": []
  },
  {
   "cell_type": "code",
   "execution_count": null,
   "metadata": {},
   "outputs": [],
   "source": []
  },
  {
   "cell_type": "code",
   "execution_count": null,
   "metadata": {},
   "outputs": [],
   "source": []
  },
  {
   "cell_type": "code",
   "execution_count": null,
   "metadata": {},
   "outputs": [],
   "source": []
  },
  {
   "cell_type": "code",
   "execution_count": null,
   "metadata": {},
   "outputs": [],
   "source": []
  }
 ],
 "metadata": {
  "kernelspec": {
   "display_name": "Python 3",
   "language": "python",
   "name": "python3"
  },
  "language_info": {
   "codemirror_mode": {
    "name": "ipython",
    "version": 3
   },
   "file_extension": ".py",
   "mimetype": "text/x-python",
   "name": "python",
   "nbconvert_exporter": "python",
   "pygments_lexer": "ipython3",
   "version": "3.7.3"
  }
 },
 "nbformat": 4,
 "nbformat_minor": 2
}
